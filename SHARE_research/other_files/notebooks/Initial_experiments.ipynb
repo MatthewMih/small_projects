{
 "cells": [
  {
   "cell_type": "code",
   "execution_count": 1,
   "id": "358927df",
   "metadata": {},
   "outputs": [],
   "source": [
    "import torchvision\n",
    "from research_task_utils import *\n",
    "import importlib\n",
    "from torchsummary import summary\n",
    "# importlib.reload(research_task_utils)"
   ]
  },
  {
   "cell_type": "code",
   "execution_count": 2,
   "id": "238ad9f7",
   "metadata": {},
   "outputs": [
    {
     "name": "stdout",
     "output_type": "stream",
     "text": [
      "Files already downloaded and verified\n",
      "Files already downloaded and verified\n"
     ]
    }
   ],
   "source": [
    "batchsize = 512\n",
    "device = torch.device('cuda:0' if torch.cuda.is_available() else 'cpu')\n",
    "\n",
    "transform = torchvision.transforms.Compose(\n",
    "    [\n",
    "        torchvision.transforms.ToTensor()\n",
    "    ]\n",
    ")\n",
    "traindata = torchvision.datasets.CIFAR100(root=\"./dataset\", train=True, download=True, transform=transform)\n",
    "testdata = torchvision.datasets.CIFAR100(root=\"./dataset\", train=False, download=True, transform=transform)\n",
    "trainloader = torch.utils.data.DataLoader(traindata, batch_size=batchsize, shuffle=True)\n",
    "testloader = torch.utils.data.DataLoader(testdata, batch_size=batchsize, shuffle=True)"
   ]
  },
  {
   "cell_type": "code",
   "execution_count": 14,
   "id": "3d9f24af",
   "metadata": {},
   "outputs": [
    {
     "data": {
      "text/plain": [
       "3072"
      ]
     },
     "execution_count": 14,
     "metadata": {},
     "output_type": "execute_result"
    }
   ],
   "source": [
    "32*32*3"
   ]
  },
  {
   "cell_type": "code",
   "execution_count": 4,
   "id": "9ecf0f1c",
   "metadata": {},
   "outputs": [],
   "source": [
    "class SimpleModel(torch.nn.Module):\n",
    "    def __init__(self, model_hyperparams):\n",
    "        super().__init__()\n",
    "        \n",
    "        self.hyperparams = model_hyperparams\n",
    "        \n",
    "        self.layers = torch.nn.Sequential(\n",
    "            torch.nn.Flatten(),\n",
    "            torch.nn.Linear(3072, model_hyperparams),\n",
    "            torch.nn.ReLU(),\n",
    "            torch.nn.Linear(model_hyperparams, 100),\n",
    "            torch.nn.Softmax(dim=-1)\n",
    "        )\n",
    "    \n",
    "    def num_of_params(self, only_trainable: bool = False):\n",
    "        parameters = list(self.parameters())\n",
    "        if only_trainable:\n",
    "            parameters = [p for p in parameters if p.requires_grad]\n",
    "        unique = {p.data_ptr(): p for p in parameters}.values()\n",
    "        return sum(p.numel() for p in unique)\n",
    "\n",
    "    def forward(self, x):\n",
    "        return self.layers(x)"
   ]
  },
  {
   "cell_type": "code",
   "execution_count": 6,
   "id": "7f884b1e",
   "metadata": {},
   "outputs": [],
   "source": [
    "model = SimpleModel(100).to(device)\n",
    "optimizer = torch.optim.Adam(model.parameters())\n",
    "loss_function = torch.nn.CrossEntropyLoss()\n",
    "statistics_list = init_statistics(model, device, trainloader, testloader, loss_function)"
   ]
  },
  {
   "cell_type": "code",
   "execution_count": 76,
   "id": "f227c825",
   "metadata": {},
   "outputs": [
    {
     "name": "stderr",
     "output_type": "stream",
     "text": [
      "100%|█████████████████████████████████████████████████████████████████████████████████| 5/5 [00:31<00:00,  6.23s/it]\n"
     ]
    }
   ],
   "source": [
    "train(model, device, optimizer, loss_function, trainloader, testloader, statistics_list, epochs_n=5,\n",
    "      augmenter=None, checkpoints_dir=None)"
   ]
  },
  {
   "cell_type": "code",
   "execution_count": 70,
   "id": "a4f0f470",
   "metadata": {},
   "outputs": [
    {
     "data": {
      "image/png": "[encoded data removed]",
      "text/plain": [
       "<Figure size 432x288 with 1 Axes>"
      ]
     },
     "metadata": {
      "needs_background": "light"
     },
     "output_type": "display_data"
    },
    {
     "data": {
      "image/png": "[encoded data removed]",
      "text/plain": [
       "<Figure size 432x288 with 1 Axes>"
      ]
     },
     "metadata": {
      "needs_background": "light"
     },
     "output_type": "display_data"
    }
   ],
   "source": [
    "plot_statistics(statistics_list)"
   ]
  },
  {
   "cell_type": "code",
   "execution_count": 7,
   "id": "578adbaa",
   "metadata": {
    "scrolled": true
   },
   "outputs": [
    {
     "name": "stdout",
     "output_type": "stream",
     "text": [
      "----------------------------------------------------------------\n",
      "        Layer (type)               Output Shape         Param #\n",
      "================================================================\n",
      "           Flatten-1                 [-1, 3072]               0\n",
      "            Linear-2                  [-1, 100]         307,300\n",
      "              ReLU-3                  [-1, 100]               0\n",
      "            Linear-4                  [-1, 100]          10,100\n",
      "           Softmax-5                  [-1, 100]               0\n",
      "================================================================\n",
      "Total params: 317,400\n",
      "Trainable params: 317,400\n",
      "Non-trainable params: 0\n",
      "----------------------------------------------------------------\n",
      "Input size (MB): 0.01\n",
      "Forward/backward pass size (MB): 0.03\n",
      "Params size (MB): 1.21\n",
      "Estimated Total Size (MB): 1.25\n",
      "----------------------------------------------------------------\n",
      "None\n"
     ]
    }
   ],
   "source": [
    "print(summary(model, (3, 32, 32)))"
   ]
  },
  {
   "cell_type": "code",
   "execution_count": 8,
   "id": "accfa7a2",
   "metadata": {},
   "outputs": [
    {
     "data": {
      "text/plain": [
       "317400"
      ]
     },
     "execution_count": 8,
     "metadata": {},
     "output_type": "execute_result"
    }
   ],
   "source": [
    "model.num_of_params()"
   ]
  },
  {
   "cell_type": "code",
   "execution_count": 63,
   "id": "7c3e4773",
   "metadata": {},
   "outputs": [],
   "source": [
    "import statistics\n",
    "\n",
    "def perform_experiment(device, trainloader, testloader, Model_class, model_hyperparams, epochs_n, repeats_n):\n",
    "    train_accs = []\n",
    "    test_accs = []\n",
    "    \n",
    "    for k in range(repeats_n):\n",
    "        model = Model_class(model_hyperparams).to(device)\n",
    "        optimizer = torch.optim.Adam(model.parameters())\n",
    "        loss_function = torch.nn.CrossEntropyLoss()\n",
    "        statistics_list = init_statistics(model, device, trainloader, testloader, loss_function)\n",
    "        train(model, device, optimizer, loss_function, trainloader, testloader, statistics_list, epochs_n=epochs_n)\n",
    "        train_accs.append(statistics_list[\"trainacc\"][-1])\n",
    "        test_accs.append(statistics_list[\"testacc\"][-1])\n",
    "        \n",
    "    if repeats_n != 1:\n",
    "        test_accs_std = statistics.stdev(test_accs)\n",
    "        train_accs_std = statistics.stdev(train_accs)\n",
    "    else:\n",
    "        test_accs_std, train_accs_std = 0, 0\n",
    "        \n",
    "    result = {\"train_acc_mean\": statistics.mean(train_accs),\n",
    "              \"train_acc_std\": train_accs_std,\n",
    "              \"test_acc_mean\": statistics.mean(test_accs),\n",
    "              \"test_acc_std\": test_accs_std,\n",
    "              \"num_of_params\": model.num_of_params()\n",
    "             }\n",
    "    return result\n",
    "\n",
    "\n",
    "def perform_experiments(device, trainloader, testloader, Model_class, hyperparams_list, epochs_n, repeats_n):\n",
    "    results = dict()\n",
    "    for hyperparam in hyperparams_list:\n",
    "        results[hyperparam] = perform_experiment(device, trainloader, testloader,\n",
    "                                                   Model_class, hyperparam, epochs_n, repeats_n)\n",
    "    return results"
   ]
  },
  {
   "cell_type": "code",
   "execution_count": 67,
   "id": "27835943",
   "metadata": {},
   "outputs": [
    {
     "name": "stderr",
     "output_type": "stream",
     "text": [
      "100%|███████████████████████████████████████████████████████████████████████████████| 10/10 [01:01<00:00,  6.16s/it]\n",
      "100%|███████████████████████████████████████████████████████████████████████████████| 10/10 [01:01<00:00,  6.12s/it]\n",
      "100%|███████████████████████████████████████████████████████████████████████████████| 10/10 [01:01<00:00,  6.11s/it]\n",
      "100%|███████████████████████████████████████████████████████████████████████████████| 10/10 [01:01<00:00,  6.13s/it]\n",
      "100%|███████████████████████████████████████████████████████████████████████████████| 10/10 [01:01<00:00,  6.12s/it]\n",
      "100%|███████████████████████████████████████████████████████████████████████████████| 10/10 [01:04<00:00,  6.45s/it]\n",
      "100%|███████████████████████████████████████████████████████████████████████████████| 10/10 [01:08<00:00,  6.87s/it]\n",
      "100%|███████████████████████████████████████████████████████████████████████████████| 10/10 [01:21<00:00,  8.16s/it]\n",
      "100%|███████████████████████████████████████████████████████████████████████████████| 10/10 [01:37<00:00,  9.72s/it]\n",
      "100%|███████████████████████████████████████████████████████████████████████████████| 10/10 [01:55<00:00, 11.55s/it]\n",
      "100%|███████████████████████████████████████████████████████████████████████████████| 10/10 [02:13<00:00, 13.33s/it]\n"
     ]
    },
    {
     "data": {
      "image/png": "[encoded data removed]",
      "text/plain": [
       "<Figure size 432x288 with 1 Axes>"
      ]
     },
     "metadata": {
      "needs_background": "light"
     },
     "output_type": "display_data"
    }
   ],
   "source": [
    "hyperparams_list = [1, 10, 25, 50, 100, 500, 1000, 2500, 5000, 7500, 10000]\n",
    "results = perform_experiments(device, trainloader, testloader,\n",
    "                              SimpleModel, hyperparams_list, epochs_n=10, repeats_n=1)\n",
    "\n",
    "test_accs = []\n",
    "nums_of_params = []\n",
    "for hyperparam in hyperparams_list:\n",
    "    test_accs.append(results[hyperparam][\"test_acc_mean\"])\n",
    "    nums_of_params.append(results[hyperparam][\"num_of_params\"])\n",
    "    \n",
    "plt.plot(nums_of_params, test_accs, marker='o')\n",
    "plt.show()"
   ]
  }
 ],
 "metadata": {
  "kernelspec": {
   "display_name": "Python 3 (ipykernel)",
   "language": "python",
   "name": "python3"
  },
  "language_info": {
   "codemirror_mode": {
    "name": "ipython",
    "version": 3
   },
   "file_extension": ".py",
   "mimetype": "text/x-python",
   "name": "python",
   "nbconvert_exporter": "python",
   "pygments_lexer": "ipython3",
   "version": "3.10.2"
  }
 },
 "nbformat": 4,
 "nbformat_minor": 5
}
