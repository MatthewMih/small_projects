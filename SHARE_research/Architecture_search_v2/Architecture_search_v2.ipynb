{
 "cells": [
  {
   "cell_type": "code",
   "execution_count": 1,
   "id": "21b8d9d8",
   "metadata": {},
   "outputs": [],
   "source": [
    "import torchvision\n",
    "from research_task_utils_for_autosearch import *\n",
    "from models_autosearch import *\n",
    "from torchsummary import summary\n",
    "import numpy as np\n",
    "import json"
   ]
  },
  {
   "cell_type": "code",
   "execution_count": 2,
   "id": "e0ab4265",
   "metadata": {},
   "outputs": [
    {
     "name": "stdout",
     "output_type": "stream",
     "text": [
      "Files already downloaded and verified\n",
      "Files already downloaded and verified\n"
     ]
    }
   ],
   "source": [
    "batchsize = 512\n",
    "device = torch.device('cuda:0' if torch.cuda.is_available() else 'cpu')\n",
    "\n",
    "transform = torchvision.transforms.Compose(\n",
    "    [\n",
    "        torchvision.transforms.ToTensor()\n",
    "    ]\n",
    ")\n",
    "traindata = torchvision.datasets.CIFAR100(root=\"../dataset\", train=True, download=True, transform=transform)\n",
    "testdata = torchvision.datasets.CIFAR100(root=\"../dataset\", train=False, download=True, transform=transform)\n",
    "trainloader = torch.utils.data.DataLoader(traindata, batch_size=batchsize, shuffle=True)\n",
    "testloader = torch.utils.data.DataLoader(testdata, batch_size=batchsize, shuffle=True)"
   ]
  },
  {
   "cell_type": "code",
   "execution_count": 3,
   "id": "49ba16cb",
   "metadata": {},
   "outputs": [],
   "source": [
    "# architecture_params = Architecture_params(k1=1, c_out1=32, c_inner1=128,\n",
    "#                                          k2=1, c_out2=32, c_inner2=128,\n",
    "#                                          k3=1, c_out3=64, c_inner3=128,\n",
    "#                                         k4=1, c_out4=100, c_inner4=256)\n",
    "# model = Model(architecture_params)\n",
    "# model = model.to(device)\n",
    "# optimizer = torch.optim.Adam(model.parameters())\n",
    "# loss_function = torch.nn.CrossEntropyLoss()\n",
    "# statistics_dict = init_statistics(model, device, trainloader, testloader, loss_function)"
   ]
  },
  {
   "cell_type": "code",
   "execution_count": 4,
   "id": "5640d0e1",
   "metadata": {},
   "outputs": [],
   "source": [
    "# statistics_dict"
   ]
  },
  {
   "cell_type": "code",
   "execution_count": 5,
   "id": "c970ee89",
   "metadata": {},
   "outputs": [],
   "source": [
    "# num_of_params(model)"
   ]
  },
  {
   "cell_type": "markdown",
   "id": "cc9136fc",
   "metadata": {},
   "source": [
    "## Подпстранство для поиска архитектур (\"Space_1\")\n",
    "\n",
    "Поищем более хороший набор количества каналов для архитектуры из 4-х MBConv слоев\n",
    "\n",
    "При этом положим c_inner{i}=2*c_out{i}\n",
    "\n",
    "Т.е. пространство четырехмерное, координаты:\n",
    "q{i} = c_out{i}"
   ]
  },
  {
   "cell_type": "code",
   "execution_count": 3,
   "id": "bb0c6fd6",
   "metadata": {},
   "outputs": [],
   "source": [
    "def generate_architecture_params(q1, q2, q3, q4):\n",
    "    return Architecture_params(k1=1, c_out1=q1, c_inner1=2*q1,\n",
    "                               k2=1, c_out2=q2, c_inner2=2*q2,\n",
    "                               k3=1, c_out3=q3, c_inner3=2*q3,\n",
    "                               k4=1, c_out4=q4, c_inner4=2*q4)\n",
    "\n",
    "\n",
    "# Функция для пля обучения одной модели и сохранения всех логов и чекпоинтов в файлы\n",
    "def perform_experiment(q, epochs_n=80, name=\"\"):\n",
    "    q1, q2, q3, q4 = q\n",
    "    architecture_params = generate_architecture_params(q1, q2, q3, q4)\n",
    "    model = Model(architecture_params)\n",
    "    model = model.to(device)\n",
    "    optimizer = torch.optim.Adam(model.parameters())\n",
    "    loss_function = torch.nn.CrossEntropyLoss()\n",
    "    statistics_dict = init_statistics(model, device, trainloader, testloader, loss_function)\n",
    "    train(model, device, optimizer, loss_function, trainloader, testloader, statistics_dict, epochs_n=epochs_n,\n",
    "          augmenter=None,\n",
    "          checkpoints_dir=f\"../tmp_checkpoints/architecture_search_v2/checkpoints/space_1/q{q1}_{q2}_{q3}_{q4}_\"+name,\n",
    "          checkpoints_per=25)\n",
    "    add_statistics_to_json(model_info={\"name\": \"Space_1\"+name, \"configuration\": q,\n",
    "                                       \"comment\": \"\", \"num_of_params\": num_of_params(model),\n",
    "                                       \"acc\": statistics_dict[\"testacc\"][-1]},\n",
    "                           statistics_dict=statistics_dict,\n",
    "                           path_dir=\"../tmp_checkpoints/architecture_search_v2/statistics\",\n",
    "                           filename=\"Space_1_statistics.json\")\n",
    "    print(f\"Обучение для {q} завершено, testacc=\",statistics_dict[\"testacc\"][-1])"
   ]
  },
  {
   "cell_type": "code",
   "execution_count": 19,
   "id": "15ff2e7f",
   "metadata": {},
   "outputs": [
    {
     "name": "stderr",
     "output_type": "stream",
     "text": [
      "100%|█████████████████████████████████████████████████████████████████████████████████████████████████████████████████████████| 1/1 [00:11<00:00, 11.42s/it]\n"
     ]
    }
   ],
   "source": [
    "perform_experiment(q=(5,5,5,5), epochs_n=1, name=\"func_test\")"
   ]
  },
  {
   "cell_type": "code",
   "execution_count": 4,
   "id": "9c4ee5a9",
   "metadata": {},
   "outputs": [],
   "source": [
    "\n",
    "# Страшная функция, которая из полных логов вытаскивает только гиперпараметры модели, кол-во параметров и accuracy.\n",
    "def get_short_data(json_statistics_path=\"../tmp_checkpoints/architecture_search_v2/statistics/Space_1_statistics.json\",\n",
    "                   exp_name=\"\"):\n",
    "    short_data = dict()\n",
    "    with open(json_statistics_path) as f:\n",
    "        json_data = json.load(f)\n",
    "        for log in json_data:\n",
    "            if log[\"model_info\"][\"name\"] == \"Space_1\"+exp_name:\n",
    "                short_data[tuple(log[\"model_info\"][\"configuration\"])] = {\"N\": log[\"model_info\"][\"num_of_params\"],\n",
    "                                                                  \"acc\": log[\"model_info\"][\"acc\"]}\n",
    "    return short_data\n",
    "        "
   ]
  },
  {
   "cell_type": "code",
   "execution_count": 5,
   "id": "bb3b90a8",
   "metadata": {},
   "outputs": [],
   "source": [
    "def get_grads(q: tuple, short_data):\n",
    "    grad_N = []\n",
    "    grad_acc = []\n",
    "    for i in range(len(q)):\n",
    "        q2 = list(q)\n",
    "        q2[i] += 1\n",
    "        q2 = tuple(q2)\n",
    "        grad_N.append(short_data[q2][\"N\"] - short_data[q][\"N\"])\n",
    "        grad_acc.append(short_data[q2][\"acc\"] - short_data[q][\"acc\"])\n",
    "    return np.array(grad_N), np.array(grad_acc)"
   ]
  },
  {
   "cell_type": "code",
   "execution_count": 6,
   "id": "bae30c77",
   "metadata": {},
   "outputs": [
    {
     "name": "stdout",
     "output_type": "stream",
     "text": [
      "99684\n"
     ]
    }
   ],
   "source": [
    "q1, q2, q3, q4 = 32, 32, 64, 128\n",
    "architecture_params = generate_architecture_params(q1, q2, q3, q4)\n",
    "model = Model(architecture_params)\n",
    "print(num_of_params(model))"
   ]
  },
  {
   "cell_type": "code",
   "execution_count": 29,
   "id": "5a916473",
   "metadata": {},
   "outputs": [
    {
     "data": {
      "text/plain": [
       "(3, 4)"
      ]
     },
     "execution_count": 29,
     "metadata": {},
     "output_type": "execute_result"
    }
   ],
   "source": [
    "tuple(np.array((3, 4)))"
   ]
  },
  {
   "cell_type": "code",
   "execution_count": 49,
   "id": "ac19c72f",
   "metadata": {
    "scrolled": true
   },
   "outputs": [
    {
     "name": "stdout",
     "output_type": "stream",
     "text": [
      "q = (32, 32, 64, 128), начало измерений в окрестности q\n"
     ]
    },
    {
     "name": "stderr",
     "output_type": "stream",
     "text": [
      "100%|███████████████████████████████████████████████████████████████████████████████████████████████████████████████████████| 75/75 [35:53<00:00, 28.72s/it]\n"
     ]
    },
    {
     "name": "stdout",
     "output_type": "stream",
     "text": [
      "Обучение для q=(32, 32, 64, 128) завершено, testacc= 0.3205\n"
     ]
    },
    {
     "name": "stderr",
     "output_type": "stream",
     "text": [
      "100%|███████████████████████████████████████████████████████████████████████████████████████████████████████████████████████| 75/75 [41:07<00:00, 32.90s/it]\n"
     ]
    },
    {
     "name": "stdout",
     "output_type": "stream",
     "text": [
      "Обучение для q=(33, 32, 64, 128) завершено, testacc= 0.3256\n"
     ]
    },
    {
     "name": "stderr",
     "output_type": "stream",
     "text": [
      "100%|███████████████████████████████████████████████████████████████████████████████████████████████████████████████████████| 75/75 [40:44<00:00, 32.60s/it]\n"
     ]
    },
    {
     "name": "stdout",
     "output_type": "stream",
     "text": [
      "Обучение для q=(32, 33, 64, 128) завершено, testacc= 0.3071\n"
     ]
    },
    {
     "name": "stderr",
     "output_type": "stream",
     "text": [
      "100%|███████████████████████████████████████████████████████████████████████████████████████████████████████████████████████| 75/75 [40:26<00:00, 32.35s/it]\n"
     ]
    },
    {
     "name": "stdout",
     "output_type": "stream",
     "text": [
      "Обучение для q=(32, 32, 65, 128) завершено, testacc= 0.3249\n"
     ]
    },
    {
     "name": "stderr",
     "output_type": "stream",
     "text": [
      "100%|███████████████████████████████████████████████████████████████████████████████████████████████████████████████████████| 75/75 [40:29<00:00, 32.39s/it]\n"
     ]
    },
    {
     "name": "stdout",
     "output_type": "stream",
     "text": [
      "Обучение для q=(32, 32, 64, 129) завершено, testacc= 0.3217\n",
      "Конец измерений в окрестности q, some results:\n",
      "acc(q):  0.3205\n",
      "{(32, 32, 64, 128): {'N': 99684, 'acc': 0.3205}, (33, 32, 64, 128): {'N': 101009, 'acc': 0.3256}, (32, 33, 64, 128): {'N': 101192, 'acc': 0.3071}, (32, 32, 65, 128): {'N': 100456, 'acc': 0.3249}, (32, 32, 64, 129): {'N': 100524, 'acc': 0.3217}}\n",
      "grad N:\n",
      "[1325 1508  772  840]\n",
      "grad acc:\n",
      "[ 0.0051 -0.0134  0.0044  0.0012]\n",
      "Новое значение q: (35, 28, 66, 129)\n",
      "Предсказываемые значения N и acc для нового q:  99684 0.3931334386491642\n",
      "q = (35, 28, 66, 129), начало измерений в окрестности q\n"
     ]
    },
    {
     "name": "stderr",
     "output_type": "stream",
     "text": [
      "100%|███████████████████████████████████████████████████████████████████████████████████████████████████████████████████████| 75/75 [43:36<00:00, 34.88s/it]\n"
     ]
    },
    {
     "name": "stdout",
     "output_type": "stream",
     "text": [
      "Обучение для q=(35, 28, 66, 129) завершено, testacc= 0.3285\n"
     ]
    },
    {
     "name": "stderr",
     "output_type": "stream",
     "text": [
      "100%|███████████████████████████████████████████████████████████████████████████████████████████████████████████████████████| 75/75 [44:08<00:00, 35.32s/it]\n"
     ]
    },
    {
     "name": "stdout",
     "output_type": "stream",
     "text": [
      "Обучение для q=(36, 28, 66, 129) завершено, testacc= 0.3075\n"
     ]
    },
    {
     "name": "stderr",
     "output_type": "stream",
     "text": [
      "100%|███████████████████████████████████████████████████████████████████████████████████████████████████████████████████████| 75/75 [43:49<00:00, 35.05s/it]\n"
     ]
    },
    {
     "name": "stdout",
     "output_type": "stream",
     "text": [
      "Обучение для q=(35, 29, 66, 129) завершено, testacc= 0.3237\n"
     ]
    },
    {
     "name": "stderr",
     "output_type": "stream",
     "text": [
      "100%|███████████████████████████████████████████████████████████████████████████████████████████████████████████████████████| 75/75 [43:52<00:00, 35.10s/it]\n"
     ]
    },
    {
     "name": "stdout",
     "output_type": "stream",
     "text": [
      "Обучение для q=(35, 28, 67, 129) завершено, testacc= 0.327\n"
     ]
    },
    {
     "name": "stderr",
     "output_type": "stream",
     "text": [
      "100%|███████████████████████████████████████████████████████████████████████████████████████████████████████████████████████| 75/75 [43:45<00:00, 35.01s/it]\n"
     ]
    },
    {
     "name": "stdout",
     "output_type": "stream",
     "text": [
      "Обучение для q=(35, 28, 66, 130) завершено, testacc= 0.3236\n",
      "Конец измерений в окрестности q, some results:\n",
      "acc(q):  0.3285\n",
      "{(32, 32, 64, 128): {'N': 99684, 'acc': 0.3205}, (33, 32, 64, 128): {'N': 101009, 'acc': 0.3256}, (32, 33, 64, 128): {'N': 101192, 'acc': 0.3071}, (32, 32, 65, 128): {'N': 100456, 'acc': 0.3249}, (32, 32, 64, 129): {'N': 100524, 'acc': 0.3217}, (35, 28, 66, 129): {'N': 102125, 'acc': 0.3285}, (36, 28, 66, 129): {'N': 102394, 'acc': 0.3075}, (35, 29, 66, 129): {'N': 102576, 'acc': 0.3237}, (35, 28, 67, 129): {'N': 102896, 'acc': 0.327}, (35, 28, 66, 130): {'N': 102975, 'acc': 0.3236}}\n",
      "grad N:\n",
      "[269 451 771 850]\n",
      "grad acc:\n",
      "[-0.021  -0.0048 -0.0015 -0.0049]\n",
      "Новое значение q: (30, 28, 67, 130)\n",
      "Предсказываемые значения N и acc для нового q:  102125 0.42622037725375894\n",
      "q = (30, 28, 67, 130), начало измерений в окрестности q\n"
     ]
    },
    {
     "name": "stderr",
     "output_type": "stream",
     "text": [
      "100%|███████████████████████████████████████████████████████████████████████████████████████████████████████████████████████| 75/75 [39:58<00:00, 31.98s/it]\n"
     ]
    },
    {
     "name": "stdout",
     "output_type": "stream",
     "text": [
      "Обучение для q=(30, 28, 67, 130) завершено, testacc= 0.3238\n"
     ]
    },
    {
     "name": "stderr",
     "output_type": "stream",
     "text": [
      "100%|███████████████████████████████████████████████████████████████████████████████████████████████████████████████████████| 75/75 [39:05<00:00, 31.27s/it]\n"
     ]
    },
    {
     "name": "stdout",
     "output_type": "stream",
     "text": [
      "Обучение для q=(31, 28, 67, 130) завершено, testacc= 0.3144\n"
     ]
    },
    {
     "name": "stderr",
     "output_type": "stream",
     "text": [
      "  0%|                                                                                                                                | 0/75 [00:07<?, ?it/s]\n"
     ]
    },
    {
     "ename": "KeyboardInterrupt",
     "evalue": "",
     "output_type": "error",
     "traceback": [
      "\u001b[0;31m---------------------------------------------------------------------------\u001b[0m",
      "\u001b[0;31mKeyboardInterrupt\u001b[0m                         Traceback (most recent call last)",
      "Input \u001b[0;32mIn [49]\u001b[0m, in \u001b[0;36m<module>\u001b[0;34m\u001b[0m\n\u001b[1;32m     16\u001b[0m     q2[i] \u001b[38;5;241m+\u001b[39m\u001b[38;5;241m=\u001b[39m \u001b[38;5;241m1\u001b[39m\n\u001b[1;32m     17\u001b[0m     q2 \u001b[38;5;241m=\u001b[39m \u001b[38;5;28mtuple\u001b[39m(q2)\n\u001b[0;32m---> 18\u001b[0m     \u001b[43mperform_experiment\u001b[49m\u001b[43m(\u001b[49m\u001b[43mq2\u001b[49m\u001b[43m,\u001b[49m\u001b[43m \u001b[49m\u001b[43mepochs_n\u001b[49m\u001b[38;5;241;43m=\u001b[39;49m\u001b[43mepochs_n\u001b[49m\u001b[43m,\u001b[49m\u001b[43m \u001b[49m\u001b[43mname\u001b[49m\u001b[38;5;241;43m=\u001b[39;49m\u001b[43mname\u001b[49m\u001b[43m)\u001b[49m\n\u001b[1;32m     19\u001b[0m short_data \u001b[38;5;241m=\u001b[39m get_short_data(exp_name\u001b[38;5;241m=\u001b[39mname)\n\u001b[1;32m     20\u001b[0m grad_N, grad_acc \u001b[38;5;241m=\u001b[39m get_grads(q, short_data)\n",
      "Input \u001b[0;32mIn [42]\u001b[0m, in \u001b[0;36mperform_experiment\u001b[0;34m(q, epochs_n, name)\u001b[0m\n\u001b[1;32m     15\u001b[0m loss_function \u001b[38;5;241m=\u001b[39m torch\u001b[38;5;241m.\u001b[39mnn\u001b[38;5;241m.\u001b[39mCrossEntropyLoss()\n\u001b[1;32m     16\u001b[0m statistics_dict \u001b[38;5;241m=\u001b[39m init_statistics(model, device, trainloader, testloader, loss_function)\n\u001b[0;32m---> 17\u001b[0m \u001b[43mtrain\u001b[49m\u001b[43m(\u001b[49m\u001b[43mmodel\u001b[49m\u001b[43m,\u001b[49m\u001b[43m \u001b[49m\u001b[43mdevice\u001b[49m\u001b[43m,\u001b[49m\u001b[43m \u001b[49m\u001b[43moptimizer\u001b[49m\u001b[43m,\u001b[49m\u001b[43m \u001b[49m\u001b[43mloss_function\u001b[49m\u001b[43m,\u001b[49m\u001b[43m \u001b[49m\u001b[43mtrainloader\u001b[49m\u001b[43m,\u001b[49m\u001b[43m \u001b[49m\u001b[43mtestloader\u001b[49m\u001b[43m,\u001b[49m\u001b[43m \u001b[49m\u001b[43mstatistics_dict\u001b[49m\u001b[43m,\u001b[49m\u001b[43m \u001b[49m\u001b[43mepochs_n\u001b[49m\u001b[38;5;241;43m=\u001b[39;49m\u001b[43mepochs_n\u001b[49m\u001b[43m,\u001b[49m\n\u001b[1;32m     18\u001b[0m \u001b[43m      \u001b[49m\u001b[43maugmenter\u001b[49m\u001b[38;5;241;43m=\u001b[39;49m\u001b[38;5;28;43;01mNone\u001b[39;49;00m\u001b[43m,\u001b[49m\n\u001b[1;32m     19\u001b[0m \u001b[43m      \u001b[49m\u001b[43mcheckpoints_dir\u001b[49m\u001b[38;5;241;43m=\u001b[39;49m\u001b[38;5;124;43mf\u001b[39;49m\u001b[38;5;124;43m\"\u001b[39;49m\u001b[38;5;124;43m../tmp_checkpoints/architecture_search_v2/checkpoints/space_1/q\u001b[39;49m\u001b[38;5;132;43;01m{\u001b[39;49;00m\u001b[43mq1\u001b[49m\u001b[38;5;132;43;01m}\u001b[39;49;00m\u001b[38;5;124;43m_\u001b[39;49m\u001b[38;5;132;43;01m{\u001b[39;49;00m\u001b[43mq2\u001b[49m\u001b[38;5;132;43;01m}\u001b[39;49;00m\u001b[38;5;124;43m_\u001b[39;49m\u001b[38;5;132;43;01m{\u001b[39;49;00m\u001b[43mq3\u001b[49m\u001b[38;5;132;43;01m}\u001b[39;49;00m\u001b[38;5;124;43m_\u001b[39;49m\u001b[38;5;132;43;01m{\u001b[39;49;00m\u001b[43mq4\u001b[49m\u001b[38;5;132;43;01m}\u001b[39;49;00m\u001b[38;5;124;43m_\u001b[39;49m\u001b[38;5;124;43m\"\u001b[39;49m\u001b[38;5;241;43m+\u001b[39;49m\u001b[43mname\u001b[49m\u001b[43m,\u001b[49m\n\u001b[1;32m     20\u001b[0m \u001b[43m      \u001b[49m\u001b[43mcheckpoints_per\u001b[49m\u001b[38;5;241;43m=\u001b[39;49m\u001b[38;5;241;43m25\u001b[39;49m\u001b[43m)\u001b[49m\n\u001b[1;32m     21\u001b[0m add_statistics_to_json(model_info\u001b[38;5;241m=\u001b[39m{\u001b[38;5;124m\"\u001b[39m\u001b[38;5;124mname\u001b[39m\u001b[38;5;124m\"\u001b[39m: \u001b[38;5;124m\"\u001b[39m\u001b[38;5;124mSpace_1\u001b[39m\u001b[38;5;124m\"\u001b[39m\u001b[38;5;241m+\u001b[39mname, \u001b[38;5;124m\"\u001b[39m\u001b[38;5;124mconfiguration\u001b[39m\u001b[38;5;124m\"\u001b[39m: q,\n\u001b[1;32m     22\u001b[0m                                    \u001b[38;5;124m\"\u001b[39m\u001b[38;5;124mcomment\u001b[39m\u001b[38;5;124m\"\u001b[39m: \u001b[38;5;124m\"\u001b[39m\u001b[38;5;124m\"\u001b[39m, \u001b[38;5;124m\"\u001b[39m\u001b[38;5;124mnum_of_params\u001b[39m\u001b[38;5;124m\"\u001b[39m: num_of_params(model),\n\u001b[1;32m     23\u001b[0m                                    \u001b[38;5;124m\"\u001b[39m\u001b[38;5;124macc\u001b[39m\u001b[38;5;124m\"\u001b[39m: statistics_dict[\u001b[38;5;124m\"\u001b[39m\u001b[38;5;124mtestacc\u001b[39m\u001b[38;5;124m\"\u001b[39m][\u001b[38;5;241m-\u001b[39m\u001b[38;5;241m1\u001b[39m]},\n\u001b[1;32m     24\u001b[0m                        statistics_dict\u001b[38;5;241m=\u001b[39mstatistics_dict,\n\u001b[1;32m     25\u001b[0m                        path_dir\u001b[38;5;241m=\u001b[39m\u001b[38;5;124m\"\u001b[39m\u001b[38;5;124m../tmp_checkpoints/architecture_search_v2/statistics\u001b[39m\u001b[38;5;124m\"\u001b[39m,\n\u001b[1;32m     26\u001b[0m                        filename\u001b[38;5;241m=\u001b[39m\u001b[38;5;124m\"\u001b[39m\u001b[38;5;124mSpace_1_statistics.json\u001b[39m\u001b[38;5;124m\"\u001b[39m)\n\u001b[1;32m     27\u001b[0m \u001b[38;5;28mprint\u001b[39m(\u001b[38;5;124mf\u001b[39m\u001b[38;5;124m\"\u001b[39m\u001b[38;5;124mОбучение для q=\u001b[39m\u001b[38;5;132;01m{\u001b[39;00mq\u001b[38;5;132;01m}\u001b[39;00m\u001b[38;5;124m завершено, testacc=\u001b[39m\u001b[38;5;124m\"\u001b[39m,statistics_dict[\u001b[38;5;124m\"\u001b[39m\u001b[38;5;124mtestacc\u001b[39m\u001b[38;5;124m\"\u001b[39m][\u001b[38;5;241m-\u001b[39m\u001b[38;5;241m1\u001b[39m])\n",
      "File \u001b[0;32m~/git/small_projects/SHARE_research/Architecture_search_v2/research_task_utils_for_autosearch.py:59\u001b[0m, in \u001b[0;36mtrain\u001b[0;34m(model, device, optimizer, loss_function, trainloader, testloader, statistics_dict, epochs_n, augmenter, checkpoints_dir, checkpoints_per)\u001b[0m\n\u001b[1;32m     56\u001b[0m loss\u001b[38;5;241m.\u001b[39mbackward()\n\u001b[1;32m     57\u001b[0m optimizer\u001b[38;5;241m.\u001b[39mstep()\n\u001b[0;32m---> 59\u001b[0m accumulated_loss \u001b[38;5;241m+\u001b[39m\u001b[38;5;241m=\u001b[39m \u001b[38;5;28;43mfloat\u001b[39;49m\u001b[43m(\u001b[49m\u001b[43mloss\u001b[49m\u001b[43m)\u001b[49m\n\u001b[1;32m     60\u001b[0m predicted_classes \u001b[38;5;241m=\u001b[39m model_outputs\u001b[38;5;241m.\u001b[39margmax(dim\u001b[38;5;241m=\u001b[39m\u001b[38;5;241m-\u001b[39m\u001b[38;5;241m1\u001b[39m)\n\u001b[1;32m     61\u001b[0m correct_predictions \u001b[38;5;241m+\u001b[39m\u001b[38;5;241m=\u001b[39m \u001b[38;5;28mint\u001b[39m((predicted_classes \u001b[38;5;241m==\u001b[39m targets)\u001b[38;5;241m.\u001b[39msum())\n",
      "\u001b[0;31mKeyboardInterrupt\u001b[0m: "
     ]
    }
   ],
   "source": [
    "# Поиск архитектуры\n",
    "\n",
    "name = \"test1\"\n",
    "# q = (5,5,5,5)\n",
    "q = (32, 32, 64, 128)\n",
    "K = 5.\n",
    "epochs_n = 75\n",
    "\n",
    "\n",
    "story = []\n",
    "while True:\n",
    "    print(f\"q = {q}, начало измерений в окрестности q\")\n",
    "    perform_experiment(q, epochs_n=epochs_n, name=name)\n",
    "    for i in range(len(q)):\n",
    "        q2 = list(q)\n",
    "        q2[i] += 1\n",
    "        q2 = tuple(q2)\n",
    "        perform_experiment(q2, epochs_n=epochs_n, name=name)\n",
    "    short_data = get_short_data(exp_name=name)\n",
    "    grad_N, grad_acc = get_grads(q, short_data)\n",
    "    \n",
    "    story.append((q, short_data[q][\"N\"], short_data[q][\"acc\"]))# сохраняем историю изменения моделей\n",
    "    \n",
    "    q_prev = tuple(q) # нужно только для принтов\n",
    "    \n",
    "    direction_to_change_params = grad_acc - np.dot(grad_N, grad_acc) / np.dot(grad_N, grad_N) * grad_N\n",
    "    direction_to_change_params /= np.linalg.norm(direction_to_change_params)\n",
    "        \n",
    "    new_hyperparams = np.array(q) + K*direction_to_change_params\n",
    "    new_hyperparams = np.rint(new_hyperparams).astype(int)\n",
    "    \n",
    "    \n",
    "    # !!! WARNING, поменять это на другое условие, если буду работать с k{i} -- в другом пр-ве!\n",
    "    for i in range(len(new_hyperparams)):\n",
    "        if new_hyperparams[i] < 1:\n",
    "            new_hyperparams[i] = 1\n",
    "            \n",
    "    q = tuple(new_hyperparams.tolist())\n",
    "    \n",
    "    \n",
    "    print(\"Конец измерений в окрестности q, some results:\")\n",
    "    print(\"acc(q): \", short_data[q_prev][\"acc\"])\n",
    "    \n",
    "    print(short_data)\n",
    "    print(\"grad N:\")\n",
    "    print(grad_N)\n",
    "    print(\"grad acc:\")\n",
    "    print(grad_acc)\n",
    "    print(\"Новое значение q:\", q)\n",
    "    print(\"Предсказываемые значения N и acc для нового q: \",\n",
    "          int(short_data[q_prev][\"N\"] + np.dot(grad_N, K*direction_to_change_params)),\n",
    "          short_data[q_prev][\"acc\"] + np.dot(grad_acc, K*direction_to_change_params))"
   ]
  },
  {
   "cell_type": "code",
   "execution_count": 7,
   "id": "3e1341cb",
   "metadata": {},
   "outputs": [
    {
     "name": "stderr",
     "output_type": "stream",
     "text": [
      "100%|█████████████████████████████████████████████████████████████████████████████████████████████████████████████████████| 100/100 [45:48<00:00, 27.48s/it]\n"
     ]
    },
    {
     "name": "stdout",
     "output_type": "stream",
     "text": [
      "Обучение для (32, 32, 64, 128) завершено, testacc= 0.3346\n"
     ]
    },
    {
     "name": "stderr",
     "output_type": "stream",
     "text": [
      "100%|█████████████████████████████████████████████████████████████████████████████████████████████████████████████████████| 100/100 [45:44<00:00, 27.45s/it]\n"
     ]
    },
    {
     "name": "stdout",
     "output_type": "stream",
     "text": [
      "Обучение для (32, 32, 64, 128) завершено, testacc= 0.3336\n"
     ]
    },
    {
     "name": "stderr",
     "output_type": "stream",
     "text": [
      "100%|█████████████████████████████████████████████████████████████████████████████████████████████████████████████████████| 100/100 [45:44<00:00, 27.44s/it]\n"
     ]
    },
    {
     "name": "stdout",
     "output_type": "stream",
     "text": [
      "Обучение для (32, 32, 64, 128) завершено, testacc= 0.3233\n"
     ]
    },
    {
     "name": "stderr",
     "output_type": "stream",
     "text": [
      "100%|█████████████████████████████████████████████████████████████████████████████████████████████████████████████████████| 100/100 [45:46<00:00, 27.47s/it]\n"
     ]
    },
    {
     "name": "stdout",
     "output_type": "stream",
     "text": [
      "Обучение для (32, 32, 64, 128) завершено, testacc= 0.3408\n"
     ]
    },
    {
     "name": "stderr",
     "output_type": "stream",
     "text": [
      "100%|█████████████████████████████████████████████████████████████████████████████████████████████████████████████████████| 100/100 [45:42<00:00, 27.42s/it]\n"
     ]
    },
    {
     "name": "stdout",
     "output_type": "stream",
     "text": [
      "Обучение для (32, 32, 64, 128) завершено, testacc= 0.3188\n"
     ]
    },
    {
     "name": "stderr",
     "output_type": "stream",
     "text": [
      "100%|█████████████████████████████████████████████████████████████████████████████████████████████████████████████████████| 100/100 [45:48<00:00, 27.49s/it]\n"
     ]
    },
    {
     "name": "stdout",
     "output_type": "stream",
     "text": [
      "Обучение для (32, 32, 64, 128) завершено, testacc= 0.324\n"
     ]
    },
    {
     "name": "stderr",
     "output_type": "stream",
     "text": [
      "100%|█████████████████████████████████████████████████████████████████████████████████████████████████████████████████████| 100/100 [45:43<00:00, 27.44s/it]\n"
     ]
    },
    {
     "name": "stdout",
     "output_type": "stream",
     "text": [
      "Обучение для (32, 32, 64, 128) завершено, testacc= 0.3241\n"
     ]
    },
    {
     "name": "stderr",
     "output_type": "stream",
     "text": [
      "100%|█████████████████████████████████████████████████████████████████████████████████████████████████████████████████████| 100/100 [45:39<00:00, 27.39s/it]\n"
     ]
    },
    {
     "name": "stdout",
     "output_type": "stream",
     "text": [
      "Обучение для (32, 32, 64, 128) завершено, testacc= 0.3236\n"
     ]
    },
    {
     "name": "stderr",
     "output_type": "stream",
     "text": [
      "100%|█████████████████████████████████████████████████████████████████████████████████████████████████████████████████████| 100/100 [45:53<00:00, 27.53s/it]\n"
     ]
    },
    {
     "name": "stdout",
     "output_type": "stream",
     "text": [
      "Обучение для (32, 32, 64, 128) завершено, testacc= 0.3259\n"
     ]
    },
    {
     "name": "stderr",
     "output_type": "stream",
     "text": [
      "100%|█████████████████████████████████████████████████████████████████████████████████████████████████████████████████████| 100/100 [45:56<00:00, 27.57s/it]"
     ]
    },
    {
     "name": "stdout",
     "output_type": "stream",
     "text": [
      "Обучение для (32, 32, 64, 128) завершено, testacc= 0.3375\n"
     ]
    },
    {
     "name": "stderr",
     "output_type": "stream",
     "text": [
      "\n"
     ]
    }
   ],
   "source": [
    "# Эксперимент для улучшения метода оценки acc.\n",
    "# Проводим обучение одинаковых моделей 10 раз, набираем статистику\n",
    "# основная цель -- оценить дисперсию acc.\n",
    "\n",
    "name = \"10_times_training\"\n",
    "q = (32, 32, 64, 128)\n",
    "epochs_n = 100\n",
    "\n",
    "\n",
    "for k in range(10):\n",
    "    perform_experiment(q, epochs_n=epochs_n, name=name)"
   ]
  },
  {
   "cell_type": "code",
   "execution_count": 6,
   "id": "fad7bad7",
   "metadata": {},
   "outputs": [
    {
     "name": "stderr",
     "output_type": "stream",
     "text": [
      "100%|███████████████████████████████████████████████████████████████████████████████████████████████████████████████████████| 75/75 [34:10<00:00, 27.34s/it]\n"
     ]
    },
    {
     "name": "stdout",
     "output_type": "stream",
     "text": [
      "Обучение для (32, 32, 64, 128) завершено, testacc= 0.3043\n"
     ]
    },
    {
     "name": "stderr",
     "output_type": "stream",
     "text": [
      "100%|███████████████████████████████████████████████████████████████████████████████████████████████████████████████████████| 75/75 [34:04<00:00, 27.27s/it]\n"
     ]
    },
    {
     "name": "stdout",
     "output_type": "stream",
     "text": [
      "Обучение для (31, 32, 64, 128) завершено, testacc= 0.3251\n"
     ]
    },
    {
     "name": "stderr",
     "output_type": "stream",
     "text": [
      "100%|███████████████████████████████████████████████████████████████████████████████████████████████████████████████████████| 75/75 [35:59<00:00, 28.79s/it]\n"
     ]
    },
    {
     "name": "stdout",
     "output_type": "stream",
     "text": [
      "Обучение для (33, 32, 64, 128) завершено, testacc= 0.3122\n"
     ]
    },
    {
     "name": "stderr",
     "output_type": "stream",
     "text": [
      "100%|███████████████████████████████████████████████████████████████████████████████████████████████████████████████████████| 75/75 [34:02<00:00, 27.24s/it]\n"
     ]
    },
    {
     "name": "stdout",
     "output_type": "stream",
     "text": [
      "Обучение для (29, 32, 64, 128) завершено, testacc= 0.3267\n"
     ]
    },
    {
     "name": "stderr",
     "output_type": "stream",
     "text": [
      "100%|███████████████████████████████████████████████████████████████████████████████████████████████████████████████████████| 75/75 [38:15<00:00, 30.61s/it]\n"
     ]
    },
    {
     "name": "stdout",
     "output_type": "stream",
     "text": [
      "Обучение для (35, 32, 64, 128) завершено, testacc= 0.333\n"
     ]
    },
    {
     "name": "stderr",
     "output_type": "stream",
     "text": [
      "100%|███████████████████████████████████████████████████████████████████████████████████████████████████████████████████████| 75/75 [30:00<00:00, 24.01s/it]\n"
     ]
    },
    {
     "name": "stdout",
     "output_type": "stream",
     "text": [
      "Обучение для (22, 32, 64, 128) завершено, testacc= 0.3097\n"
     ]
    },
    {
     "name": "stderr",
     "output_type": "stream",
     "text": [
      "100%|███████████████████████████████████████████████████████████████████████████████████████████████████████████████████████| 75/75 [41:39<00:00, 33.32s/it]"
     ]
    },
    {
     "name": "stdout",
     "output_type": "stream",
     "text": [
      "Обучение для (42, 32, 64, 128) завершено, testacc= 0.3345\n"
     ]
    },
    {
     "name": "stderr",
     "output_type": "stream",
     "text": [
      "\n"
     ]
    }
   ],
   "source": [
    "# Эксперимент для оценки изменения acc вдоль координатных направлений\n",
    "\n",
    "q1_init = 32\n",
    "q2_init = 32\n",
    "q3_init = 64\n",
    "q4_init = 128\n",
    "\n",
    "name = \"q1_direction_tests\"\n",
    "epochs_n = 75\n",
    "\n",
    "for q1 in [q1_init, q1_init - 1, q1_init + 1, q1_init - 3, q1_init + 3, q1_init - 10, q1_init + 10]:\n",
    "    perform_experiment((q1, q2_init, q3_init, q4_init), epochs_n=epochs_n, name=name)"
   ]
  },
  {
   "cell_type": "code",
   "execution_count": null,
   "id": "d1cfa301",
   "metadata": {},
   "outputs": [],
   "source": []
  }
 ],
 "metadata": {
  "kernelspec": {
   "display_name": "Python 3 (ipykernel)",
   "language": "python",
   "name": "python3"
  },
  "language_info": {
   "codemirror_mode": {
    "name": "ipython",
    "version": 3
   },
   "file_extension": ".py",
   "mimetype": "text/x-python",
   "name": "python",
   "nbconvert_exporter": "python",
   "pygments_lexer": "ipython3",
   "version": "3.10.2"
  }
 },
 "nbformat": 4,
 "nbformat_minor": 5
}
