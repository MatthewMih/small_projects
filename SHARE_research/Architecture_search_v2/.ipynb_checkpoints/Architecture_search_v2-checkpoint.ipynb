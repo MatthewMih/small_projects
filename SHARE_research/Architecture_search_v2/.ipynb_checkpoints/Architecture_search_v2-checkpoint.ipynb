{
 "cells": [
  {
   "cell_type": "code",
   "execution_count": 1,
   "id": "21b8d9d8",
   "metadata": {},
   "outputs": [],
   "source": [
    "import torchvision\n",
    "from research_task_utils_for_autosearch import *\n",
    "from models_autosearch import *\n",
    "from torchsummary import summary\n",
    "import numpy as np\n",
    "import json"
   ]
  },
  {
   "cell_type": "code",
   "execution_count": 2,
   "id": "d17e1dcf",
   "metadata": {},
   "outputs": [
    {
     "name": "stdout",
     "output_type": "stream",
     "text": [
      "Files already downloaded and verified\n",
      "Files already downloaded and verified\n"
     ]
    }
   ],
   "source": [
    "batchsize = 512\n",
    "device = torch.device('cuda:0' if torch.cuda.is_available() else 'cpu')\n",
    "\n",
    "transform = torchvision.transforms.Compose(\n",
    "    [\n",
    "        torchvision.transforms.ToTensor()\n",
    "    ]\n",
    ")\n",
    "traindata = torchvision.datasets.CIFAR100(root=\"../dataset\", train=True, download=True, transform=transform)\n",
    "testdata = torchvision.datasets.CIFAR100(root=\"../dataset\", train=False, download=True, transform=transform)\n",
    "trainloader = torch.utils.data.DataLoader(traindata, batch_size=batchsize, shuffle=True)\n",
    "testloader = torch.utils.data.DataLoader(testdata, batch_size=batchsize, shuffle=True)"
   ]
  },
  {
   "cell_type": "code",
   "execution_count": 3,
   "id": "cb35fdb1",
   "metadata": {},
   "outputs": [],
   "source": [
    "# architecture_params = Architecture_params(k1=1, c_out1=32, c_inner1=128,\n",
    "#                                          k2=1, c_out2=32, c_inner2=128,\n",
    "#                                          k3=1, c_out3=64, c_inner3=128,\n",
    "#                                         k4=1, c_out4=100, c_inner4=256)\n",
    "# model = Model(architecture_params)\n",
    "# model = model.to(device)\n",
    "# optimizer = torch.optim.Adam(model.parameters())\n",
    "# loss_function = torch.nn.CrossEntropyLoss()\n",
    "# statistics_dict = init_statistics(model, device, trainloader, testloader, loss_function)"
   ]
  },
  {
   "cell_type": "code",
   "execution_count": 4,
   "id": "b2f495ea",
   "metadata": {},
   "outputs": [],
   "source": [
    "# statistics_dict"
   ]
  },
  {
   "cell_type": "code",
   "execution_count": 5,
   "id": "6332d8d0",
   "metadata": {},
   "outputs": [],
   "source": [
    "# num_of_params(model)"
   ]
  },
  {
   "cell_type": "markdown",
   "id": "4ab800c9",
   "metadata": {},
   "source": [
    "## Подпстранство для поиска архитектур (\"Space_1\")\n",
    "\n",
    "Поищем более хороший набор количества каналов для архитектуры из 4-х MBConv слоев\n",
    "\n",
    "При этом положим c_inner{i}=2*c_out{i}\n",
    "\n",
    "Т.е. пространство четырехмерное, координаты:\n",
    "q{i} = c_out{i}"
   ]
  },
  {
   "cell_type": "code",
   "execution_count": 42,
   "id": "26e1c6c2",
   "metadata": {},
   "outputs": [],
   "source": [
    "def generate_architecture_params(q1, q2, q3, q4):\n",
    "    return Architecture_params(k1=1, c_out1=q1, c_inner1=2*q1,\n",
    "                               k2=1, c_out2=q2, c_inner2=2*q2,\n",
    "                               k3=1, c_out3=q3, c_inner3=2*q3,\n",
    "                               k4=1, c_out4=q4, c_inner4=2*q4)\n",
    "\n",
    "\n",
    "# Функция для пля обучения одной модели и сохранения всех логов и чекпоинтов в файлы\n",
    "def perform_experiment(q, epochs_n=80, name=\"\"):\n",
    "    q1, q2, q3, q4 = q\n",
    "    architecture_params = generate_architecture_params(q1, q2, q3, q4)\n",
    "    model = Model(architecture_params)\n",
    "    model = model.to(device)\n",
    "    optimizer = torch.optim.Adam(model.parameters())\n",
    "    loss_function = torch.nn.CrossEntropyLoss()\n",
    "    statistics_dict = init_statistics(model, device, trainloader, testloader, loss_function)\n",
    "    train(model, device, optimizer, loss_function, trainloader, testloader, statistics_dict, epochs_n=epochs_n,\n",
    "          augmenter=None,\n",
    "          checkpoints_dir=f\"../tmp_checkpoints/architecture_search_v2/checkpoints/space_1/q{q1}_{q2}_{q3}_{q4}_\"+name,\n",
    "          checkpoints_per=25)\n",
    "    add_statistics_to_json(model_info={\"name\": \"Space_1\"+name, \"configuration\": q,\n",
    "                                       \"comment\": \"\", \"num_of_params\": num_of_params(model),\n",
    "                                       \"acc\": statistics_dict[\"testacc\"][-1]},\n",
    "                           statistics_dict=statistics_dict,\n",
    "                           path_dir=\"../tmp_checkpoints/architecture_search_v2/statistics\",\n",
    "                           filename=\"Space_1_statistics.json\")\n",
    "    print(f\"Обучение для q={q} завершено, testacc=\",statistics_dict[\"testacc\"][-1])"
   ]
  },
  {
   "cell_type": "code",
   "execution_count": 19,
   "id": "980be70b",
   "metadata": {},
   "outputs": [
    {
     "name": "stderr",
     "output_type": "stream",
     "text": [
      "100%|█████████████████████████████████████████████████████████████████████████████████████████████████████████████████████████| 1/1 [00:11<00:00, 11.42s/it]\n"
     ]
    }
   ],
   "source": [
    "perform_experiment(q=(5,5,5,5), epochs_n=1, name=\"func_test\")"
   ]
  },
  {
   "cell_type": "code",
   "execution_count": 43,
   "id": "9ac23850",
   "metadata": {},
   "outputs": [],
   "source": [
    "\n",
    "# Страшная функция, которая из полных логов вытаскивает только гиперпараметры модели, кол-во параметров и accuracy.\n",
    "def get_short_data(json_statistics_path=\"../tmp_checkpoints/architecture_search_v2/statistics/Space_1_statistics.json\",\n",
    "                   exp_name=\"\"):\n",
    "    short_data = dict()\n",
    "    with open(json_statistics_path) as f:\n",
    "        json_data = json.load(f)\n",
    "        for log in json_data:\n",
    "            if log[\"model_info\"][\"name\"] == \"Space_1\"+exp_name:\n",
    "                short_data[tuple(log[\"model_info\"][\"configuration\"])] = {\"N\": log[\"model_info\"][\"num_of_params\"],\n",
    "                                                                  \"acc\": log[\"model_info\"][\"acc\"]}\n",
    "    return short_data\n",
    "        "
   ]
  },
  {
   "cell_type": "code",
   "execution_count": 44,
   "id": "e4df8846",
   "metadata": {},
   "outputs": [],
   "source": [
    "def get_grads(q: tuple, short_data):\n",
    "    grad_N = []\n",
    "    grad_acc = []\n",
    "    for i in range(len(q)):\n",
    "        q2 = list(q)\n",
    "        q2[i] += 1\n",
    "        q2 = tuple(q2)\n",
    "        grad_N.append(short_data[q2][\"N\"] - short_data[q][\"N\"])\n",
    "        grad_acc.append(short_data[q2][\"acc\"] - short_data[q][\"acc\"])\n",
    "    return np.array(grad_N), np.array(grad_acc)"
   ]
  },
  {
   "cell_type": "code",
   "execution_count": 12,
   "id": "3f0b92db",
   "metadata": {},
   "outputs": [
    {
     "name": "stdout",
     "output_type": "stream",
     "text": [
      "99684\n"
     ]
    }
   ],
   "source": [
    "q1, q2, q3, q4 = 32, 32, 64, 128\n",
    "architecture_params = generate_architecture_params(q1, q2, q3, q4)\n",
    "model = Model(architecture_params)\n",
    "print(num_of_params(model))"
   ]
  },
  {
   "cell_type": "code",
   "execution_count": 29,
   "id": "7791b93a",
   "metadata": {},
   "outputs": [
    {
     "data": {
      "text/plain": [
       "(3, 4)"
      ]
     },
     "execution_count": 29,
     "metadata": {},
     "output_type": "execute_result"
    }
   ],
   "source": [
    "tuple(np.array((3, 4)))"
   ]
  },
  {
   "cell_type": "code",
   "execution_count": 46,
   "id": "5a72d1ed",
   "metadata": {},
   "outputs": [
    {
     "name": "stdout",
     "output_type": "stream",
     "text": [
      "q = (5, 5, 5, 5), начало измерений в окрестности q\n"
     ]
    },
    {
     "name": "stderr",
     "output_type": "stream",
     "text": [
      "100%|█████████████████████████████████████████████████████████████████████████████████████████████████████████████████████████| 1/1 [00:10<00:00, 10.58s/it]\n"
     ]
    },
    {
     "name": "stdout",
     "output_type": "stream",
     "text": [
      "Обучение для q=(5, 5, 5, 5) завершено, testacc= 0.0192\n"
     ]
    },
    {
     "name": "stderr",
     "output_type": "stream",
     "text": [
      "100%|█████████████████████████████████████████████████████████████████████████████████████████████████████████████████████████| 1/1 [00:11<00:00, 11.33s/it]\n"
     ]
    },
    {
     "name": "stdout",
     "output_type": "stream",
     "text": [
      "Обучение для q=(6, 5, 5, 5) завершено, testacc= 0.0177\n"
     ]
    },
    {
     "name": "stderr",
     "output_type": "stream",
     "text": [
      "100%|█████████████████████████████████████████████████████████████████████████████████████████████████████████████████████████| 1/1 [00:10<00:00, 10.72s/it]\n"
     ]
    },
    {
     "name": "stdout",
     "output_type": "stream",
     "text": [
      "Обучение для q=(5, 6, 5, 5) завершено, testacc= 0.0155\n"
     ]
    },
    {
     "name": "stderr",
     "output_type": "stream",
     "text": [
      "100%|█████████████████████████████████████████████████████████████████████████████████████████████████████████████████████████| 1/1 [00:10<00:00, 10.68s/it]\n"
     ]
    },
    {
     "name": "stdout",
     "output_type": "stream",
     "text": [
      "Обучение для q=(5, 5, 6, 5) завершено, testacc= 0.0247\n"
     ]
    },
    {
     "name": "stderr",
     "output_type": "stream",
     "text": [
      "100%|█████████████████████████████████████████████████████████████████████████████████████████████████████████████████████████| 1/1 [00:10<00:00, 10.51s/it]\n"
     ]
    },
    {
     "name": "stdout",
     "output_type": "stream",
     "text": [
      "Обучение для q=(5, 5, 5, 6) завершено, testacc= 0.0138\n",
      "Конец измерений в окрестности q, some results:\n",
      "acc(q):  0.0192\n",
      "{(5, 5, 5, 5): {'N': 1660, 'acc': 0.0192}, (6, 5, 5, 5): {'N': 1770, 'acc': 0.0177}, (5, 6, 5, 5): {'N': 1806, 'acc': 0.0155}, (5, 5, 6, 5): {'N': 1806, 'acc': 0.0247}, (5, 5, 5, 6): {'N': 1861, 'acc': 0.0138}}\n",
      "grad N:\n",
      "[110 146 146 201]\n",
      "grad acc:\n",
      "[-0.0015 -0.0037  0.0055 -0.0054]\n",
      "Новое значение q: (5, 4, 9, 3)\n",
      "Предсказываемые значения N и acc для нового q:  1660 0.059541502158196896\n",
      "q = (5, 4, 9, 3), начало измерений в окрестности q\n"
     ]
    },
    {
     "name": "stderr",
     "output_type": "stream",
     "text": [
      "100%|█████████████████████████████████████████████████████████████████████████████████████████████████████████████████████████| 1/1 [00:10<00:00, 10.76s/it]\n"
     ]
    },
    {
     "name": "stdout",
     "output_type": "stream",
     "text": [
      "Обучение для q=(5, 4, 9, 3) завершено, testacc= 0.0172\n"
     ]
    },
    {
     "name": "stderr",
     "output_type": "stream",
     "text": [
      "100%|█████████████████████████████████████████████████████████████████████████████████████████████████████████████████████████| 1/1 [00:11<00:00, 11.32s/it]\n"
     ]
    },
    {
     "name": "stdout",
     "output_type": "stream",
     "text": [
      "Обучение для q=(6, 4, 9, 3) завершено, testacc= 0.0152\n"
     ]
    },
    {
     "name": "stderr",
     "output_type": "stream",
     "text": [
      "100%|█████████████████████████████████████████████████████████████████████████████████████████████████████████████████████████| 1/1 [00:10<00:00, 10.65s/it]\n"
     ]
    },
    {
     "name": "stdout",
     "output_type": "stream",
     "text": [
      "Обучение для q=(5, 5, 9, 3) завершено, testacc= 0.0212\n"
     ]
    },
    {
     "name": "stderr",
     "output_type": "stream",
     "text": [
      "100%|█████████████████████████████████████████████████████████████████████████████████████████████████████████████████████████| 1/1 [00:10<00:00, 10.92s/it]\n"
     ]
    },
    {
     "name": "stdout",
     "output_type": "stream",
     "text": [
      "Обучение для q=(5, 4, 10, 3) завершено, testacc= 0.0145\n"
     ]
    },
    {
     "name": "stderr",
     "output_type": "stream",
     "text": [
      "100%|█████████████████████████████████████████████████████████████████████████████████████████████████████████████████████████| 1/1 [00:10<00:00, 10.55s/it]\n"
     ]
    },
    {
     "name": "stdout",
     "output_type": "stream",
     "text": [
      "Обучение для q=(5, 4, 9, 4) завершено, testacc= 0.0183\n",
      "Конец измерений в окрестности q, some results:\n",
      "acc(q):  0.0172\n",
      "{(5, 5, 5, 5): {'N': 1660, 'acc': 0.0192}, (6, 5, 5, 5): {'N': 1770, 'acc': 0.0177}, (5, 6, 5, 5): {'N': 1806, 'acc': 0.0155}, (5, 5, 6, 5): {'N': 1806, 'acc': 0.0247}, (5, 5, 5, 6): {'N': 1861, 'acc': 0.0138}, (5, 4, 9, 3): {'N': 1670, 'acc': 0.0172}, (6, 4, 9, 3): {'N': 1747, 'acc': 0.0152}, (5, 5, 9, 3): {'N': 1734, 'acc': 0.0212}, (5, 4, 10, 3): {'N': 1763, 'acc': 0.0145}, (5, 4, 9, 4): {'N': 1845, 'acc': 0.0183}}\n",
      "grad N:\n",
      "[ 77  64  93 175]\n",
      "grad acc:\n",
      "[-0.002   0.004  -0.0027  0.0011]\n",
      "Новое значение q: (3, 8, 6, 4)\n",
      "Предсказываемые значения N и acc для нового q:  1670 0.043874797628014106\n",
      "q = (3, 8, 6, 4), начало измерений в окрестности q\n"
     ]
    },
    {
     "name": "stderr",
     "output_type": "stream",
     "text": [
      "100%|█████████████████████████████████████████████████████████████████████████████████████████████████████████████████████████| 1/1 [00:10<00:00, 10.02s/it]\n"
     ]
    },
    {
     "name": "stdout",
     "output_type": "stream",
     "text": [
      "Обучение для q=(3, 8, 6, 4) завершено, testacc= 0.0201\n"
     ]
    },
    {
     "name": "stderr",
     "output_type": "stream",
     "text": [
      "100%|█████████████████████████████████████████████████████████████████████████████████████████████████████████████████████████| 1/1 [00:12<00:00, 12.09s/it]\n"
     ]
    },
    {
     "name": "stdout",
     "output_type": "stream",
     "text": [
      "Обучение для q=(4, 8, 6, 4) завершено, testacc= 0.0104\n"
     ]
    },
    {
     "name": "stderr",
     "output_type": "stream",
     "text": [
      "100%|█████████████████████████████████████████████████████████████████████████████████████████████████████████████████████████| 1/1 [00:10<00:00, 10.38s/it]\n"
     ]
    },
    {
     "name": "stdout",
     "output_type": "stream",
     "text": [
      "Обучение для q=(3, 9, 6, 4) завершено, testacc= 0.0145\n"
     ]
    },
    {
     "name": "stderr",
     "output_type": "stream",
     "text": [
      "100%|█████████████████████████████████████████████████████████████████████████████████████████████████████████████████████████| 1/1 [00:11<00:00, 11.12s/it]\n"
     ]
    },
    {
     "name": "stdout",
     "output_type": "stream",
     "text": [
      "Обучение для q=(3, 8, 7, 4) завершено, testacc= 0.0196\n"
     ]
    },
    {
     "name": "stderr",
     "output_type": "stream",
     "text": [
      "100%|█████████████████████████████████████████████████████████████████████████████████████████████████████████████████████████| 1/1 [00:10<00:00, 10.63s/it]\n"
     ]
    },
    {
     "name": "stdout",
     "output_type": "stream",
     "text": [
      "Обучение для q=(3, 8, 6, 5) завершено, testacc= 0.0137\n",
      "Конец измерений в окрестности q, some results:\n",
      "acc(q):  0.0201\n",
      "{(5, 5, 5, 5): {'N': 1660, 'acc': 0.0192}, (6, 5, 5, 5): {'N': 1770, 'acc': 0.0177}, (5, 6, 5, 5): {'N': 1806, 'acc': 0.0155}, (5, 5, 6, 5): {'N': 1806, 'acc': 0.0247}, (5, 5, 5, 6): {'N': 1861, 'acc': 0.0138}, (5, 4, 9, 3): {'N': 1670, 'acc': 0.0172}, (6, 4, 9, 3): {'N': 1747, 'acc': 0.0152}, (5, 5, 9, 3): {'N': 1734, 'acc': 0.0212}, (5, 4, 10, 3): {'N': 1763, 'acc': 0.0145}, (5, 4, 9, 4): {'N': 1845, 'acc': 0.0183}, (3, 8, 6, 4): {'N': 1767, 'acc': 0.0201}, (4, 8, 6, 4): {'N': 1860, 'acc': 0.0104}, (3, 9, 6, 4): {'N': 1862, 'acc': 0.0145}, (3, 8, 7, 4): {'N': 1863, 'acc': 0.0196}, (3, 8, 6, 5): {'N': 1937, 'acc': 0.0137}}\n",
      "grad N:\n",
      "[ 93  95  96 170]\n",
      "grad acc:\n",
      "[-0.0097 -0.0056 -0.0005 -0.0064]\n",
      "Новое значение q: (1, 7, 9, 5)\n",
      "Предсказываемые значения N и acc для нового q:  1767 0.054835495747354496\n",
      "q = (1, 7, 9, 5), начало измерений в окрестности q\n"
     ]
    },
    {
     "name": "stderr",
     "output_type": "stream",
     "text": [
      "100%|█████████████████████████████████████████████████████████████████████████████████████████████████████████████████████████| 1/1 [00:11<00:00, 11.89s/it]\n"
     ]
    },
    {
     "name": "stdout",
     "output_type": "stream",
     "text": [
      "Обучение для q=(1, 7, 9, 5) завершено, testacc= 0.016\n"
     ]
    },
    {
     "name": "stderr",
     "output_type": "stream",
     "text": [
      "100%|█████████████████████████████████████████████████████████████████████████████████████████████████████████████████████████| 1/1 [00:10<00:00, 10.55s/it]\n"
     ]
    },
    {
     "name": "stdout",
     "output_type": "stream",
     "text": [
      "Обучение для q=(2, 7, 9, 5) завершено, testacc= 0.0183\n"
     ]
    },
    {
     "name": "stderr",
     "output_type": "stream",
     "text": [
      "  0%|                                                                                                                                 | 0/1 [00:07<?, ?it/s]\n"
     ]
    },
    {
     "ename": "KeyboardInterrupt",
     "evalue": "",
     "output_type": "error",
     "traceback": [
      "\u001b[0;31m---------------------------------------------------------------------------\u001b[0m",
      "\u001b[0;31mKeyboardInterrupt\u001b[0m                         Traceback (most recent call last)",
      "Input \u001b[0;32mIn [46]\u001b[0m, in \u001b[0;36m<module>\u001b[0;34m\u001b[0m\n\u001b[1;32m     16\u001b[0m     q2[i] \u001b[38;5;241m+\u001b[39m\u001b[38;5;241m=\u001b[39m \u001b[38;5;241m1\u001b[39m\n\u001b[1;32m     17\u001b[0m     q2 \u001b[38;5;241m=\u001b[39m \u001b[38;5;28mtuple\u001b[39m(q2)\n\u001b[0;32m---> 18\u001b[0m     \u001b[43mperform_experiment\u001b[49m\u001b[43m(\u001b[49m\u001b[43mq2\u001b[49m\u001b[43m,\u001b[49m\u001b[43m \u001b[49m\u001b[43mepochs_n\u001b[49m\u001b[38;5;241;43m=\u001b[39;49m\u001b[43mepochs_n\u001b[49m\u001b[43m,\u001b[49m\u001b[43m \u001b[49m\u001b[43mname\u001b[49m\u001b[38;5;241;43m=\u001b[39;49m\u001b[43mname\u001b[49m\u001b[43m)\u001b[49m\n\u001b[1;32m     19\u001b[0m short_data \u001b[38;5;241m=\u001b[39m get_short_data(exp_name\u001b[38;5;241m=\u001b[39mname)\n\u001b[1;32m     20\u001b[0m grad_N, grad_acc \u001b[38;5;241m=\u001b[39m get_grads(q, short_data)\n",
      "Input \u001b[0;32mIn [42]\u001b[0m, in \u001b[0;36mperform_experiment\u001b[0;34m(q, epochs_n, name)\u001b[0m\n\u001b[1;32m     15\u001b[0m loss_function \u001b[38;5;241m=\u001b[39m torch\u001b[38;5;241m.\u001b[39mnn\u001b[38;5;241m.\u001b[39mCrossEntropyLoss()\n\u001b[1;32m     16\u001b[0m statistics_dict \u001b[38;5;241m=\u001b[39m init_statistics(model, device, trainloader, testloader, loss_function)\n\u001b[0;32m---> 17\u001b[0m \u001b[43mtrain\u001b[49m\u001b[43m(\u001b[49m\u001b[43mmodel\u001b[49m\u001b[43m,\u001b[49m\u001b[43m \u001b[49m\u001b[43mdevice\u001b[49m\u001b[43m,\u001b[49m\u001b[43m \u001b[49m\u001b[43moptimizer\u001b[49m\u001b[43m,\u001b[49m\u001b[43m \u001b[49m\u001b[43mloss_function\u001b[49m\u001b[43m,\u001b[49m\u001b[43m \u001b[49m\u001b[43mtrainloader\u001b[49m\u001b[43m,\u001b[49m\u001b[43m \u001b[49m\u001b[43mtestloader\u001b[49m\u001b[43m,\u001b[49m\u001b[43m \u001b[49m\u001b[43mstatistics_dict\u001b[49m\u001b[43m,\u001b[49m\u001b[43m \u001b[49m\u001b[43mepochs_n\u001b[49m\u001b[38;5;241;43m=\u001b[39;49m\u001b[43mepochs_n\u001b[49m\u001b[43m,\u001b[49m\n\u001b[1;32m     18\u001b[0m \u001b[43m      \u001b[49m\u001b[43maugmenter\u001b[49m\u001b[38;5;241;43m=\u001b[39;49m\u001b[38;5;28;43;01mNone\u001b[39;49;00m\u001b[43m,\u001b[49m\n\u001b[1;32m     19\u001b[0m \u001b[43m      \u001b[49m\u001b[43mcheckpoints_dir\u001b[49m\u001b[38;5;241;43m=\u001b[39;49m\u001b[38;5;124;43mf\u001b[39;49m\u001b[38;5;124;43m\"\u001b[39;49m\u001b[38;5;124;43m../tmp_checkpoints/architecture_search_v2/checkpoints/space_1/q\u001b[39;49m\u001b[38;5;132;43;01m{\u001b[39;49;00m\u001b[43mq1\u001b[49m\u001b[38;5;132;43;01m}\u001b[39;49;00m\u001b[38;5;124;43m_\u001b[39;49m\u001b[38;5;132;43;01m{\u001b[39;49;00m\u001b[43mq2\u001b[49m\u001b[38;5;132;43;01m}\u001b[39;49;00m\u001b[38;5;124;43m_\u001b[39;49m\u001b[38;5;132;43;01m{\u001b[39;49;00m\u001b[43mq3\u001b[49m\u001b[38;5;132;43;01m}\u001b[39;49;00m\u001b[38;5;124;43m_\u001b[39;49m\u001b[38;5;132;43;01m{\u001b[39;49;00m\u001b[43mq4\u001b[49m\u001b[38;5;132;43;01m}\u001b[39;49;00m\u001b[38;5;124;43m_\u001b[39;49m\u001b[38;5;124;43m\"\u001b[39;49m\u001b[38;5;241;43m+\u001b[39;49m\u001b[43mname\u001b[49m\u001b[43m,\u001b[49m\n\u001b[1;32m     20\u001b[0m \u001b[43m      \u001b[49m\u001b[43mcheckpoints_per\u001b[49m\u001b[38;5;241;43m=\u001b[39;49m\u001b[38;5;241;43m25\u001b[39;49m\u001b[43m)\u001b[49m\n\u001b[1;32m     21\u001b[0m add_statistics_to_json(model_info\u001b[38;5;241m=\u001b[39m{\u001b[38;5;124m\"\u001b[39m\u001b[38;5;124mname\u001b[39m\u001b[38;5;124m\"\u001b[39m: \u001b[38;5;124m\"\u001b[39m\u001b[38;5;124mSpace_1\u001b[39m\u001b[38;5;124m\"\u001b[39m\u001b[38;5;241m+\u001b[39mname, \u001b[38;5;124m\"\u001b[39m\u001b[38;5;124mconfiguration\u001b[39m\u001b[38;5;124m\"\u001b[39m: q,\n\u001b[1;32m     22\u001b[0m                                    \u001b[38;5;124m\"\u001b[39m\u001b[38;5;124mcomment\u001b[39m\u001b[38;5;124m\"\u001b[39m: \u001b[38;5;124m\"\u001b[39m\u001b[38;5;124m\"\u001b[39m, \u001b[38;5;124m\"\u001b[39m\u001b[38;5;124mnum_of_params\u001b[39m\u001b[38;5;124m\"\u001b[39m: num_of_params(model),\n\u001b[1;32m     23\u001b[0m                                    \u001b[38;5;124m\"\u001b[39m\u001b[38;5;124macc\u001b[39m\u001b[38;5;124m\"\u001b[39m: statistics_dict[\u001b[38;5;124m\"\u001b[39m\u001b[38;5;124mtestacc\u001b[39m\u001b[38;5;124m\"\u001b[39m][\u001b[38;5;241m-\u001b[39m\u001b[38;5;241m1\u001b[39m]},\n\u001b[1;32m     24\u001b[0m                        statistics_dict\u001b[38;5;241m=\u001b[39mstatistics_dict,\n\u001b[1;32m     25\u001b[0m                        path_dir\u001b[38;5;241m=\u001b[39m\u001b[38;5;124m\"\u001b[39m\u001b[38;5;124m../tmp_checkpoints/architecture_search_v2/statistics\u001b[39m\u001b[38;5;124m\"\u001b[39m,\n\u001b[1;32m     26\u001b[0m                        filename\u001b[38;5;241m=\u001b[39m\u001b[38;5;124m\"\u001b[39m\u001b[38;5;124mSpace_1_statistics.json\u001b[39m\u001b[38;5;124m\"\u001b[39m)\n\u001b[1;32m     27\u001b[0m \u001b[38;5;28mprint\u001b[39m(\u001b[38;5;124mf\u001b[39m\u001b[38;5;124m\"\u001b[39m\u001b[38;5;124mОбучение для q=\u001b[39m\u001b[38;5;132;01m{\u001b[39;00mq\u001b[38;5;132;01m}\u001b[39;00m\u001b[38;5;124m завершено, testacc=\u001b[39m\u001b[38;5;124m\"\u001b[39m,statistics_dict[\u001b[38;5;124m\"\u001b[39m\u001b[38;5;124mtestacc\u001b[39m\u001b[38;5;124m\"\u001b[39m][\u001b[38;5;241m-\u001b[39m\u001b[38;5;241m1\u001b[39m])\n",
      "File \u001b[0;32m~/git/small_projects/SHARE_research/Architecture_search_v2/research_task_utils_for_autosearch.py:47\u001b[0m, in \u001b[0;36mtrain\u001b[0;34m(model, device, optimizer, loss_function, trainloader, testloader, statistics_dict, epochs_n, augmenter, checkpoints_dir, checkpoints_per)\u001b[0m\n\u001b[1;32m     45\u001b[0m correct_predictions \u001b[38;5;241m=\u001b[39m \u001b[38;5;241m0\u001b[39m \u001b[38;5;66;03m# it's need to calculate acc.\u001b[39;00m\n\u001b[1;32m     46\u001b[0m accumulated_loss \u001b[38;5;241m=\u001b[39m \u001b[38;5;241m0\u001b[39m\n\u001b[0;32m---> 47\u001b[0m \u001b[38;5;28;01mfor\u001b[39;00m inputs, targets \u001b[38;5;129;01min\u001b[39;00m trainloader:\n\u001b[1;32m     48\u001b[0m     \u001b[38;5;28;01mif\u001b[39;00m augmenter \u001b[38;5;241m!=\u001b[39m \u001b[38;5;28;01mNone\u001b[39;00m:\n\u001b[1;32m     49\u001b[0m         inputs \u001b[38;5;241m=\u001b[39m augmenter(inputs)\n",
      "File \u001b[0;32m~/.local/lib/python3.10/site-packages/torch/utils/data/dataloader.py:530\u001b[0m, in \u001b[0;36m_BaseDataLoaderIter.__next__\u001b[0;34m(self)\u001b[0m\n\u001b[1;32m    528\u001b[0m \u001b[38;5;28;01mif\u001b[39;00m \u001b[38;5;28mself\u001b[39m\u001b[38;5;241m.\u001b[39m_sampler_iter \u001b[38;5;129;01mis\u001b[39;00m \u001b[38;5;28;01mNone\u001b[39;00m:\n\u001b[1;32m    529\u001b[0m     \u001b[38;5;28mself\u001b[39m\u001b[38;5;241m.\u001b[39m_reset()\n\u001b[0;32m--> 530\u001b[0m data \u001b[38;5;241m=\u001b[39m \u001b[38;5;28;43mself\u001b[39;49m\u001b[38;5;241;43m.\u001b[39;49m\u001b[43m_next_data\u001b[49m\u001b[43m(\u001b[49m\u001b[43m)\u001b[49m\n\u001b[1;32m    531\u001b[0m \u001b[38;5;28mself\u001b[39m\u001b[38;5;241m.\u001b[39m_num_yielded \u001b[38;5;241m+\u001b[39m\u001b[38;5;241m=\u001b[39m \u001b[38;5;241m1\u001b[39m\n\u001b[1;32m    532\u001b[0m \u001b[38;5;28;01mif\u001b[39;00m \u001b[38;5;28mself\u001b[39m\u001b[38;5;241m.\u001b[39m_dataset_kind \u001b[38;5;241m==\u001b[39m _DatasetKind\u001b[38;5;241m.\u001b[39mIterable \u001b[38;5;129;01mand\u001b[39;00m \\\n\u001b[1;32m    533\u001b[0m         \u001b[38;5;28mself\u001b[39m\u001b[38;5;241m.\u001b[39m_IterableDataset_len_called \u001b[38;5;129;01mis\u001b[39;00m \u001b[38;5;129;01mnot\u001b[39;00m \u001b[38;5;28;01mNone\u001b[39;00m \u001b[38;5;129;01mand\u001b[39;00m \\\n\u001b[1;32m    534\u001b[0m         \u001b[38;5;28mself\u001b[39m\u001b[38;5;241m.\u001b[39m_num_yielded \u001b[38;5;241m>\u001b[39m \u001b[38;5;28mself\u001b[39m\u001b[38;5;241m.\u001b[39m_IterableDataset_len_called:\n",
      "File \u001b[0;32m~/.local/lib/python3.10/site-packages/torch/utils/data/dataloader.py:570\u001b[0m, in \u001b[0;36m_SingleProcessDataLoaderIter._next_data\u001b[0;34m(self)\u001b[0m\n\u001b[1;32m    568\u001b[0m \u001b[38;5;28;01mdef\u001b[39;00m \u001b[38;5;21m_next_data\u001b[39m(\u001b[38;5;28mself\u001b[39m):\n\u001b[1;32m    569\u001b[0m     index \u001b[38;5;241m=\u001b[39m \u001b[38;5;28mself\u001b[39m\u001b[38;5;241m.\u001b[39m_next_index()  \u001b[38;5;66;03m# may raise StopIteration\u001b[39;00m\n\u001b[0;32m--> 570\u001b[0m     data \u001b[38;5;241m=\u001b[39m \u001b[38;5;28;43mself\u001b[39;49m\u001b[38;5;241;43m.\u001b[39;49m\u001b[43m_dataset_fetcher\u001b[49m\u001b[38;5;241;43m.\u001b[39;49m\u001b[43mfetch\u001b[49m\u001b[43m(\u001b[49m\u001b[43mindex\u001b[49m\u001b[43m)\u001b[49m  \u001b[38;5;66;03m# may raise StopIteration\u001b[39;00m\n\u001b[1;32m    571\u001b[0m     \u001b[38;5;28;01mif\u001b[39;00m \u001b[38;5;28mself\u001b[39m\u001b[38;5;241m.\u001b[39m_pin_memory:\n\u001b[1;32m    572\u001b[0m         data \u001b[38;5;241m=\u001b[39m _utils\u001b[38;5;241m.\u001b[39mpin_memory\u001b[38;5;241m.\u001b[39mpin_memory(data)\n",
      "File \u001b[0;32m~/.local/lib/python3.10/site-packages/torch/utils/data/_utils/fetch.py:49\u001b[0m, in \u001b[0;36m_MapDatasetFetcher.fetch\u001b[0;34m(self, possibly_batched_index)\u001b[0m\n\u001b[1;32m     47\u001b[0m \u001b[38;5;28;01mdef\u001b[39;00m \u001b[38;5;21mfetch\u001b[39m(\u001b[38;5;28mself\u001b[39m, possibly_batched_index):\n\u001b[1;32m     48\u001b[0m     \u001b[38;5;28;01mif\u001b[39;00m \u001b[38;5;28mself\u001b[39m\u001b[38;5;241m.\u001b[39mauto_collation:\n\u001b[0;32m---> 49\u001b[0m         data \u001b[38;5;241m=\u001b[39m [\u001b[38;5;28mself\u001b[39m\u001b[38;5;241m.\u001b[39mdataset[idx] \u001b[38;5;28;01mfor\u001b[39;00m idx \u001b[38;5;129;01min\u001b[39;00m possibly_batched_index]\n\u001b[1;32m     50\u001b[0m     \u001b[38;5;28;01melse\u001b[39;00m:\n\u001b[1;32m     51\u001b[0m         data \u001b[38;5;241m=\u001b[39m \u001b[38;5;28mself\u001b[39m\u001b[38;5;241m.\u001b[39mdataset[possibly_batched_index]\n",
      "File \u001b[0;32m~/.local/lib/python3.10/site-packages/torch/utils/data/_utils/fetch.py:49\u001b[0m, in \u001b[0;36m<listcomp>\u001b[0;34m(.0)\u001b[0m\n\u001b[1;32m     47\u001b[0m \u001b[38;5;28;01mdef\u001b[39;00m \u001b[38;5;21mfetch\u001b[39m(\u001b[38;5;28mself\u001b[39m, possibly_batched_index):\n\u001b[1;32m     48\u001b[0m     \u001b[38;5;28;01mif\u001b[39;00m \u001b[38;5;28mself\u001b[39m\u001b[38;5;241m.\u001b[39mauto_collation:\n\u001b[0;32m---> 49\u001b[0m         data \u001b[38;5;241m=\u001b[39m [\u001b[38;5;28;43mself\u001b[39;49m\u001b[38;5;241;43m.\u001b[39;49m\u001b[43mdataset\u001b[49m\u001b[43m[\u001b[49m\u001b[43midx\u001b[49m\u001b[43m]\u001b[49m \u001b[38;5;28;01mfor\u001b[39;00m idx \u001b[38;5;129;01min\u001b[39;00m possibly_batched_index]\n\u001b[1;32m     50\u001b[0m     \u001b[38;5;28;01melse\u001b[39;00m:\n\u001b[1;32m     51\u001b[0m         data \u001b[38;5;241m=\u001b[39m \u001b[38;5;28mself\u001b[39m\u001b[38;5;241m.\u001b[39mdataset[possibly_batched_index]\n",
      "File \u001b[0;32m~/.local/lib/python3.10/site-packages/torchvision/datasets/cifar.py:118\u001b[0m, in \u001b[0;36mCIFAR10.__getitem__\u001b[0;34m(self, index)\u001b[0m\n\u001b[1;32m    115\u001b[0m img \u001b[38;5;241m=\u001b[39m Image\u001b[38;5;241m.\u001b[39mfromarray(img)\n\u001b[1;32m    117\u001b[0m \u001b[38;5;28;01mif\u001b[39;00m \u001b[38;5;28mself\u001b[39m\u001b[38;5;241m.\u001b[39mtransform \u001b[38;5;129;01mis\u001b[39;00m \u001b[38;5;129;01mnot\u001b[39;00m \u001b[38;5;28;01mNone\u001b[39;00m:\n\u001b[0;32m--> 118\u001b[0m     img \u001b[38;5;241m=\u001b[39m \u001b[38;5;28;43mself\u001b[39;49m\u001b[38;5;241;43m.\u001b[39;49m\u001b[43mtransform\u001b[49m\u001b[43m(\u001b[49m\u001b[43mimg\u001b[49m\u001b[43m)\u001b[49m\n\u001b[1;32m    120\u001b[0m \u001b[38;5;28;01mif\u001b[39;00m \u001b[38;5;28mself\u001b[39m\u001b[38;5;241m.\u001b[39mtarget_transform \u001b[38;5;129;01mis\u001b[39;00m \u001b[38;5;129;01mnot\u001b[39;00m \u001b[38;5;28;01mNone\u001b[39;00m:\n\u001b[1;32m    121\u001b[0m     target \u001b[38;5;241m=\u001b[39m \u001b[38;5;28mself\u001b[39m\u001b[38;5;241m.\u001b[39mtarget_transform(target)\n",
      "File \u001b[0;32m~/.local/lib/python3.10/site-packages/torchvision/transforms/transforms.py:95\u001b[0m, in \u001b[0;36mCompose.__call__\u001b[0;34m(self, img)\u001b[0m\n\u001b[1;32m     93\u001b[0m \u001b[38;5;28;01mdef\u001b[39;00m \u001b[38;5;21m__call__\u001b[39m(\u001b[38;5;28mself\u001b[39m, img):\n\u001b[1;32m     94\u001b[0m     \u001b[38;5;28;01mfor\u001b[39;00m t \u001b[38;5;129;01min\u001b[39;00m \u001b[38;5;28mself\u001b[39m\u001b[38;5;241m.\u001b[39mtransforms:\n\u001b[0;32m---> 95\u001b[0m         img \u001b[38;5;241m=\u001b[39m \u001b[43mt\u001b[49m\u001b[43m(\u001b[49m\u001b[43mimg\u001b[49m\u001b[43m)\u001b[49m\n\u001b[1;32m     96\u001b[0m     \u001b[38;5;28;01mreturn\u001b[39;00m img\n",
      "File \u001b[0;32m~/.local/lib/python3.10/site-packages/torchvision/transforms/transforms.py:135\u001b[0m, in \u001b[0;36mToTensor.__call__\u001b[0;34m(self, pic)\u001b[0m\n\u001b[1;32m    127\u001b[0m \u001b[38;5;28;01mdef\u001b[39;00m \u001b[38;5;21m__call__\u001b[39m(\u001b[38;5;28mself\u001b[39m, pic):\n\u001b[1;32m    128\u001b[0m     \u001b[38;5;124;03m\"\"\"\u001b[39;00m\n\u001b[1;32m    129\u001b[0m \u001b[38;5;124;03m    Args:\u001b[39;00m\n\u001b[1;32m    130\u001b[0m \u001b[38;5;124;03m        pic (PIL Image or numpy.ndarray): Image to be converted to tensor.\u001b[39;00m\n\u001b[0;32m   (...)\u001b[0m\n\u001b[1;32m    133\u001b[0m \u001b[38;5;124;03m        Tensor: Converted image.\u001b[39;00m\n\u001b[1;32m    134\u001b[0m \u001b[38;5;124;03m    \"\"\"\u001b[39;00m\n\u001b[0;32m--> 135\u001b[0m     \u001b[38;5;28;01mreturn\u001b[39;00m \u001b[43mF\u001b[49m\u001b[38;5;241;43m.\u001b[39;49m\u001b[43mto_tensor\u001b[49m\u001b[43m(\u001b[49m\u001b[43mpic\u001b[49m\u001b[43m)\u001b[49m\n",
      "File \u001b[0;32m~/.local/lib/python3.10/site-packages/torchvision/transforms/functional.py:153\u001b[0m, in \u001b[0;36mto_tensor\u001b[0;34m(pic)\u001b[0m\n\u001b[1;32m    151\u001b[0m img \u001b[38;5;241m=\u001b[39m img\u001b[38;5;241m.\u001b[39mview(pic\u001b[38;5;241m.\u001b[39msize[\u001b[38;5;241m1\u001b[39m], pic\u001b[38;5;241m.\u001b[39msize[\u001b[38;5;241m0\u001b[39m], \u001b[38;5;28mlen\u001b[39m(pic\u001b[38;5;241m.\u001b[39mgetbands()))\n\u001b[1;32m    152\u001b[0m \u001b[38;5;66;03m# put it from HWC to CHW format\u001b[39;00m\n\u001b[0;32m--> 153\u001b[0m img \u001b[38;5;241m=\u001b[39m \u001b[43mimg\u001b[49m\u001b[38;5;241;43m.\u001b[39;49m\u001b[43mpermute\u001b[49m\u001b[43m(\u001b[49m\u001b[43m(\u001b[49m\u001b[38;5;241;43m2\u001b[39;49m\u001b[43m,\u001b[49m\u001b[43m \u001b[49m\u001b[38;5;241;43m0\u001b[39;49m\u001b[43m,\u001b[49m\u001b[43m \u001b[49m\u001b[38;5;241;43m1\u001b[39;49m\u001b[43m)\u001b[49m\u001b[43m)\u001b[49m\u001b[38;5;241;43m.\u001b[39;49m\u001b[43mcontiguous\u001b[49m\u001b[43m(\u001b[49m\u001b[43m)\u001b[49m\n\u001b[1;32m    154\u001b[0m \u001b[38;5;28;01mif\u001b[39;00m \u001b[38;5;28misinstance\u001b[39m(img, torch\u001b[38;5;241m.\u001b[39mByteTensor):\n\u001b[1;32m    155\u001b[0m     \u001b[38;5;28;01mreturn\u001b[39;00m img\u001b[38;5;241m.\u001b[39mto(dtype\u001b[38;5;241m=\u001b[39mdefault_float_dtype)\u001b[38;5;241m.\u001b[39mdiv(\u001b[38;5;241m255\u001b[39m)\n",
      "\u001b[0;31mKeyboardInterrupt\u001b[0m: "
     ]
    }
   ],
   "source": [
    "# Поиск архитектуры\n",
    "\n",
    "\n",
    "name = \"exx2\"\n",
    "q = (5,5,5,5)\n",
    "# q = (32, 32, 64, 128)\n",
    "K = 5.\n",
    "epochs_n = 1\n",
    "\n",
    "\n",
    "story = []\n",
    "while True:\n",
    "    print(f\"q = {q}, начало измерений в окрестности q\")\n",
    "    perform_experiment(q, epochs_n=epochs_n, name=name)\n",
    "    for i in range(len(q)):\n",
    "        q2 = list(q)\n",
    "        q2[i] += 1\n",
    "        q2 = tuple(q2)\n",
    "        perform_experiment(q2, epochs_n=epochs_n, name=name)\n",
    "    short_data = get_short_data(exp_name=name)\n",
    "    grad_N, grad_acc = get_grads(q, short_data)\n",
    "    \n",
    "    story.append((q, short_data[q][\"N\"], short_data[q][\"acc\"]))# сохраняем историю изменения моделей\n",
    "    \n",
    "    q_prev = tuple(q) # нужно только для принтов\n",
    "    \n",
    "    direction_to_change_params = grad_acc - np.dot(grad_N, grad_acc) / np.dot(grad_N, grad_N) * grad_N\n",
    "    direction_to_change_params /= np.linalg.norm(direction_to_change_params)\n",
    "        \n",
    "    new_hyperparams = np.array(q) + K*direction_to_change_params\n",
    "    new_hyperparams = np.rint(new_hyperparams).astype(int)\n",
    "    \n",
    "    \n",
    "    # !!! WARNING, поменять это на другое условие, если буду работать с k{i} -- в другом пр-ве!\n",
    "    for i in range(len(new_hyperparams)):\n",
    "        if new_hyperparams[i] < 1:\n",
    "            new_hyperparams[i] = 1\n",
    "            \n",
    "    q = tuple(new_hyperparams.tolist())\n",
    "    \n",
    "    \n",
    "    print(\"Конец измерений в окрестности q, some results:\")\n",
    "    print(\"acc(q): \", short_data[q_prev][\"acc\"])\n",
    "    \n",
    "    print(short_data)\n",
    "    print(\"grad N:\")\n",
    "    print(grad_N)\n",
    "    print(\"grad acc:\")\n",
    "    print(grad_acc)\n",
    "    print(\"Новое значение q:\", q)\n",
    "    print(\"Предсказываемые значения N и acc для нового q: \",\n",
    "          int(short_data[q_prev][\"N\"] + np.dot(grad_N, K*direction_to_change_params)),\n",
    "          short_data[q_prev][\"acc\"] + np.dot(grad_acc, K*direction_to_change_params))"
   ]
  },
  {
   "cell_type": "code",
   "execution_count": null,
   "id": "035be61d",
   "metadata": {},
   "outputs": [],
   "source": []
  }
 ],
 "metadata": {
  "kernelspec": {
   "display_name": "Python 3 (ipykernel)",
   "language": "python",
   "name": "python3"
  },
  "language_info": {
   "codemirror_mode": {
    "name": "ipython",
    "version": 3
   },
   "file_extension": ".py",
   "mimetype": "text/x-python",
   "name": "python",
   "nbconvert_exporter": "python",
   "pygments_lexer": "ipython3",
   "version": "3.10.2"
  }
 },
 "nbformat": 4,
 "nbformat_minor": 5
}
