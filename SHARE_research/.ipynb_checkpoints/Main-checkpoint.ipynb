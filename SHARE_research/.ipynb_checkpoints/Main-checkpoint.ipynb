{
 "cells": [
  {
   "cell_type": "code",
   "execution_count": 1,
   "id": "358927df",
   "metadata": {},
   "outputs": [],
   "source": [
    "from research_task_utils import *\n",
    "from models import *\n",
    "\n",
    "from torch import nn\n",
    "import torchvision"
   ]
  },
  {
   "cell_type": "code",
   "execution_count": null,
   "id": "bc6d6634",
   "metadata": {},
   "outputs": [],
   "source": [
    "# Этим можно не пользоваться, если не установлен torchsummary\n",
    "from torchsummary import summary"
   ]
  },
  {
   "cell_type": "code",
   "execution_count": 2,
   "id": "238ad9f7",
   "metadata": {},
   "outputs": [
    {
     "name": "stdout",
     "output_type": "stream",
     "text": [
      "Files already downloaded and verified\n",
      "Files already downloaded and verified\n"
     ]
    }
   ],
   "source": [
    "batchsize = 512\n",
    "device = torch.device('cuda:0' if torch.cuda.is_available() else 'cpu')\n",
    "\n",
    "transform = torchvision.transforms.Compose(\n",
    "    [\n",
    "        torchvision.transforms.ToTensor()\n",
    "    ]\n",
    ")\n",
    "traindata = torchvision.datasets.CIFAR100(root=\"./dataset\", train=True, download=True, transform=transform)\n",
    "testdata = torchvision.datasets.CIFAR100(root=\"./dataset\", train=False, download=True, transform=transform)\n",
    "trainloader = torch.utils.data.DataLoader(traindata, batch_size=batchsize, shuffle=True)\n",
    "testloader = torch.utils.data.DataLoader(testdata, batch_size=batchsize, shuffle=True)"
   ]
  },
  {
   "cell_type": "code",
   "execution_count": 89,
   "id": "45ede5ae",
   "metadata": {},
   "outputs": [],
   "source": [
    "Models = [Model_1, Model_2, Model_3, Model_4, Model_5, Model_6, Model_7, Model_8]\n",
    "epochs_n=1\n",
    "\n",
    "params_counts = []\n",
    "accs_on_tests = []\n",
    "for i, Model in enumerate(Models):\n",
    "    model = Model().to(device)\n",
    "    params_counts.append(num_of_params(model))\n",
    "    print(f\"Начало обучения модели {i} с {params_counts[-1]} параметрами\")\n",
    "    optimizer = torch.optim.Adam(model.parameters())\n",
    "    loss_function = torch.nn.CrossEntropyLoss()\n",
    "    statistics_list = init_statistics(model, device, trainloader, testloader, loss_function)\n",
    "    \n",
    "    train(model, device, optimizer, loss_function, trainloader, testloader, statistics_list, epochs_n=epochs_n,\n",
    "          augmenter=None, checkpoints_dir=f\"./checkpoints/Model_{i}\", checkpoints_per=10)\n",
    "    \n",
    "    accs_on_tests.append(statistics_list[\"testacc\"][-1])\n",
    "    print(f\"Модель {i} обучена, {params_counts[-1]} параметров\")\n",
    "    print(f\"accuracy on test: {accs_on_tests[-1]}\")\n",
    "    plot_statistics(statistics_list)\n",
    "    \n",
    "print(params_counts)\n",
    "print(accs_on_tests)\n",
    "print(\"Искомый график:\")\n",
    "plt.plot(params_counts, accs_on_tests)"
   ]
  },
  {
   "cell_type": "code",
   "execution_count": 26,
   "id": "c28d9cfe",
   "metadata": {},
   "outputs": [
    {
     "data": {
      "text/plain": [
       "0.3038"
      ]
     },
     "execution_count": 26,
     "metadata": {},
     "output_type": "execute_result"
    }
   ],
   "source": [
    "statistics_list[\"testacc\"][-1] #20 ep model2"
   ]
  },
  {
   "cell_type": "code",
   "execution_count": 28,
   "id": "b30507e2",
   "metadata": {},
   "outputs": [
    {
     "data": {
      "text/plain": [
       "0.3404"
      ]
     },
     "execution_count": 28,
     "metadata": {},
     "output_type": "execute_result"
    }
   ],
   "source": [
    "statistics_list[\"testacc\"][-1] #50ep model 2   342k"
   ]
  },
  {
   "cell_type": "code",
   "execution_count": 43,
   "id": "f6f81718",
   "metadata": {},
   "outputs": [
    {
     "data": {
      "text/plain": [
       "0.3156"
      ]
     },
     "execution_count": 43,
     "metadata": {},
     "output_type": "execute_result"
    }
   ],
   "source": [
    "statistics_list[\"testacc\"][-1] #20 ep model3"
   ]
  },
  {
   "cell_type": "code",
   "execution_count": 46,
   "id": "df3b8521",
   "metadata": {},
   "outputs": [
    {
     "data": {
      "text/plain": [
       "0.3488"
      ]
     },
     "execution_count": 46,
     "metadata": {},
     "output_type": "execute_result"
    }
   ],
   "source": [
    "statistics_list[\"testacc\"][-1] #50 ep model3   481k"
   ]
  },
  {
   "cell_type": "code",
   "execution_count": 67,
   "id": "032f937d",
   "metadata": {},
   "outputs": [
    {
     "data": {
      "text/plain": [
       "0.3097"
      ]
     },
     "execution_count": 67,
     "metadata": {},
     "output_type": "execute_result"
    }
   ],
   "source": [
    "statistics_list[\"testacc\"][-1] #20 ep model4"
   ]
  },
  {
   "cell_type": "code",
   "execution_count": 70,
   "id": "77b80538",
   "metadata": {},
   "outputs": [
    {
     "data": {
      "text/plain": [
       "0.3558"
      ]
     },
     "execution_count": 70,
     "metadata": {},
     "output_type": "execute_result"
    }
   ],
   "source": [
    "statistics_list[\"testacc\"][-1] #50 ep model4   1 058k"
   ]
  },
  {
   "cell_type": "code",
   "execution_count": 80,
   "id": "aa05ea34",
   "metadata": {},
   "outputs": [
    {
     "data": {
      "text/plain": [
       "0.2422"
      ]
     },
     "execution_count": 80,
     "metadata": {},
     "output_type": "execute_result"
    }
   ],
   "source": [
    "statistics_list[\"testacc\"][-1] #20 ep model5"
   ]
  },
  {
   "cell_type": "code",
   "execution_count": 83,
   "id": "9b87c358",
   "metadata": {},
   "outputs": [
    {
     "data": {
      "text/plain": [
       "0.2706"
      ]
     },
     "execution_count": 83,
     "metadata": {},
     "output_type": "execute_result"
    }
   ],
   "source": [
    "statistics_list[\"testacc\"][-1] #50 ep model5   102k"
   ]
  },
  {
   "cell_type": "code",
   "execution_count": 97,
   "id": "559da85a",
   "metadata": {},
   "outputs": [
    {
     "data": {
      "text/plain": [
       "0.3024"
      ]
     },
     "execution_count": 97,
     "metadata": {},
     "output_type": "execute_result"
    }
   ],
   "source": [
    "statistics_list[\"testacc\"][-1] #50 ep model5m   102k"
   ]
  },
  {
   "cell_type": "markdown",
   "id": "dbc756da",
   "metadata": {},
   "source": [
    "Model6  50,548   0.2552 (50ep)"
   ]
  },
  {
   "cell_type": "code",
   "execution_count": 34,
   "id": "8e00ece2",
   "metadata": {},
   "outputs": [
    {
     "data": {
      "text/plain": [
       "0.1274"
      ]
     },
     "execution_count": 34,
     "metadata": {},
     "output_type": "execute_result"
    }
   ],
   "source": [
    "statistics_list[\"testacc\"][-1] #50 ep model7_old   9.9k"
   ]
  },
  {
   "cell_type": "code",
   "execution_count": 52,
   "id": "8b562cd8",
   "metadata": {},
   "outputs": [
    {
     "data": {
      "text/plain": [
       "0.1598"
      ]
     },
     "execution_count": 52,
     "metadata": {},
     "output_type": "execute_result"
    }
   ],
   "source": [
    "statistics_list[\"testacc\"][-1] #50 ep model7   9.9k"
   ]
  },
  {
   "cell_type": "code",
   "execution_count": 64,
   "id": "93367907",
   "metadata": {},
   "outputs": [
    {
     "data": {
      "text/plain": [
       "0.1818"
      ]
     },
     "execution_count": 64,
     "metadata": {},
     "output_type": "execute_result"
    }
   ],
   "source": [
    "statistics_list[\"testacc\"][-1] #50 ep model8   9,636"
   ]
  },
  {
   "cell_type": "code",
   "execution_count": 94,
   "id": "a4f0f470",
   "metadata": {
    "scrolled": true
   },
   "outputs": [
    {
     "data": {
      "image/png": "[encoded data removed]",
      "text/plain": [
       "<Figure size 432x288 with 1 Axes>"
      ]
     },
     "metadata": {
      "needs_background": "light"
     },
     "output_type": "display_data"
    },
    {
     "data": {
      "image/png": "[encoded data removed]",
      "text/plain": [
       "<Figure size 432x288 with 1 Axes>"
      ]
     },
     "metadata": {
      "needs_background": "light"
     },
     "output_type": "display_data"
    }
   ],
   "source": [
    "plot_statistics(statistics_list)"
   ]
  },
  {
   "cell_type": "code",
   "execution_count": 54,
   "id": "d07d8fa0",
   "metadata": {},
   "outputs": [
    {
     "data": {
      "text/plain": [
       "[<matplotlib.lines.Line2D at 0x7f0fa4a94af0>]"
      ]
     },
     "execution_count": 54,
     "metadata": {},
     "output_type": "execute_result"
    },
    {
     "data": {
      "image/png": "[encoded data removed]",
      "text/plain": [
       "<Figure size 432x288 with 1 Axes>"
      ]
     },
     "metadata": {
      "needs_background": "light"
     },
     "output_type": "display_data"
    }
   ],
   "source": [
    "plt.plot([9.9, 51, 102, 342, 481, 1058], [0.1598, 0.2552, 0.2706, 0.3404, 0.3488, 0.3558])"
   ]
  },
  {
   "cell_type": "code",
   "execution_count": 86,
   "id": "578adbaa",
   "metadata": {
    "scrolled": true
   },
   "outputs": [
    {
     "name": "stdout",
     "output_type": "stream",
     "text": [
      "----------------------------------------------------------------\n",
      "        Layer (type)               Output Shape         Param #\n",
      "================================================================\n",
      "            Conv2d-1            [-1, 4, 34, 34]              16\n",
      "       BatchNorm2d-2            [-1, 4, 34, 34]               8\n",
      "              ReLU-3            [-1, 4, 34, 34]               0\n",
      "            Conv2d-4            [-1, 4, 34, 34]              40\n",
      "       BatchNorm2d-5            [-1, 4, 34, 34]               8\n",
      "              ReLU-6            [-1, 4, 34, 34]               0\n",
      "         MaxPool2d-7            [-1, 4, 17, 17]               0\n",
      "            Conv2d-8            [-1, 8, 19, 19]              40\n",
      "       BatchNorm2d-9            [-1, 8, 19, 19]              16\n",
      "             ReLU-10            [-1, 8, 19, 19]               0\n",
      "           Conv2d-11            [-1, 8, 19, 19]             152\n",
      "      BatchNorm2d-12            [-1, 8, 19, 19]              16\n",
      "             ReLU-13            [-1, 8, 19, 19]               0\n",
      "        MaxPool2d-14              [-1, 8, 9, 9]               0\n",
      "           Conv2d-15              [-1, 8, 9, 9]              80\n",
      "      BatchNorm2d-16              [-1, 8, 9, 9]              16\n",
      "             ReLU-17              [-1, 8, 9, 9]               0\n",
      "        MaxPool2d-18              [-1, 8, 4, 4]               0\n",
      "           Conv2d-19              [-1, 4, 6, 6]              36\n",
      "      BatchNorm2d-20              [-1, 4, 6, 6]               8\n",
      "             ReLU-21              [-1, 4, 6, 6]               0\n",
      "           Conv2d-22              [-1, 4, 6, 6]              40\n",
      "      BatchNorm2d-23              [-1, 4, 6, 6]               8\n",
      "             ReLU-24              [-1, 4, 6, 6]               0\n",
      "        AvgPool2d-25              [-1, 4, 1, 1]               0\n",
      "          Flatten-26                    [-1, 4]               0\n",
      "           Linear-27                  [-1, 100]             500\n",
      "          Softmax-28                  [-1, 100]               0\n",
      "================================================================\n",
      "Total params: 984\n",
      "Trainable params: 984\n",
      "Non-trainable params: 0\n",
      "----------------------------------------------------------------\n",
      "Input size (MB): 0.01\n",
      "Forward/backward pass size (MB): 0.38\n",
      "Params size (MB): 0.00\n",
      "Estimated Total Size (MB): 0.40\n",
      "----------------------------------------------------------------\n",
      "None\n"
     ]
    }
   ],
   "source": [
    "print(summary(model, (3, 32, 32)))"
   ]
  },
  {
   "cell_type": "code",
   "execution_count": null,
   "id": "f067c143",
   "metadata": {},
   "outputs": [],
   "source": []
  }
 ],
 "metadata": {
  "kernelspec": {
   "display_name": "Python 3 (ipykernel)",
   "language": "python",
   "name": "python3"
  },
  "language_info": {
   "codemirror_mode": {
    "name": "ipython",
    "version": 3
   },
   "file_extension": ".py",
   "mimetype": "text/x-python",
   "name": "python",
   "nbconvert_exporter": "python",
   "pygments_lexer": "ipython3",
   "version": "3.10.2"
  }
 },
 "nbformat": 4,
 "nbformat_minor": 5
}
